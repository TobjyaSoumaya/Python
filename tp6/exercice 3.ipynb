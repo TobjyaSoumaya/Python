{
  "nbformat": 4,
  "nbformat_minor": 0,
  "metadata": {
    "colab": {
      "provenance": []
    },
    "kernelspec": {
      "name": "python3",
      "display_name": "Python 3"
    },
    "language_info": {
      "name": "python"
    }
  },
  "cells": [
    {
      "cell_type": "markdown",
      "source": [
        "**EXERCICE 3**"
      ],
      "metadata": {
        "id": "Dwymtal-YVcg"
      }
    },
    {
      "cell_type": "code",
      "execution_count": null,
      "metadata": {
        "id": "zGdir6J-YiAT",
        "outputId": "4267dfd9-ee64-4702-e839-1f20e625b934"
      },
      "outputs": [
        {
          "name": "stdout",
          "output_type": "stream",
          "text": [
            "Erreur : Le fichier 'example.txt' n'existe pas.\n",
            "Tentative de lecture terminée pour le fichier 'example.txt'.\n"
          ]
        }
      ],
      "source": [
        "def read_file(filename):\n",
        "\n",
        "    try:\n",
        "        with open(filename, 'r') as file:\n",
        "            content = file.read()\n",
        "            return content\n",
        "    except FileNotFoundError:\n",
        "        print(f\"Erreur : Le fichier '{filename}' n'existe pas.\")\n",
        "    except Exception as e:\n",
        "        print(f\"Une erreur inattendue s'est produite : {e}\")\n",
        "    finally:\n",
        "        print(f\"Tentative de lecture terminée pour le fichier '{filename}'.\")\n",
        "\n",
        "# Exemple d'utilisation\n",
        "content = read_file(\"example.txt\")\n",
        "if content:\n",
        "    print(\"Contenu du fichier :\")\n",
        "    print(content)\n"
      ]
    }
  ]
}