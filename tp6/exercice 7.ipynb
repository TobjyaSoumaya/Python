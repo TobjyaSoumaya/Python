{
  "nbformat": 4,
  "nbformat_minor": 0,
  "metadata": {
    "colab": {
      "provenance": []
    },
    "kernelspec": {
      "name": "python3",
      "display_name": "Python 3"
    },
    "language_info": {
      "name": "python"
    }
  },
  "cells": [
    {
      "cell_type": "markdown",
      "source": [
        "**EXERCICE 7**"
      ],
      "metadata": {
        "id": "Dwymtal-YVcg"
      }
    },
    {
      "cell_type": "code",
      "execution_count": null,
      "metadata": {
        "id": "DVcAFXpOZsfC",
        "outputId": "41473c34-6629-4e75-a758-ac078abe811a"
      },
      "outputs": [
        {
          "name": "stdout",
          "output_type": "stream",
          "text": [
            "hello\n",
            "\n"
          ]
        }
      ],
      "source": [
        "import logging\n",
        "\n",
        "# Configuration du logging\n",
        "logging.basicConfig(filename='error.log', level=logging.ERROR, format='%(asctime)s - %(levelname)s - %(message)s')\n",
        "\n",
        "# Fonction pour enregistrer les erreurs\n",
        "def log_error(message):\n",
        "    logging.error(message)\n",
        "\n",
        "# Exemple d'utilisation : gérer un fichier introuvable\n",
        "def process_file(filename):\n",
        "    try:\n",
        "        # Essayer d'ouvrir le fichier\n",
        "        with open(filename, 'r') as file:\n",
        "            content = file.read()\n",
        "            print(content)\n",
        "    except FileNotFoundError as e:\n",
        "        print(f\"Erreur : Le fichier '{filename}' n'a pas été trouvé.\")\n",
        "        log_error(f\"Le fichier '{filename}' n'a pas été trouvé.\")  # Enregistrer l'erreur dans le log\n",
        "    except Exception as e:\n",
        "        print(f\"Erreur inattendue : {e}\")\n",
        "        log_error(f\"Erreur inattendue : {e}\")\n",
        "\n",
        "# Exemple d'appel de la fonction\n",
        "process_file('example.txt')\n"
      ]
    }
  ]
}