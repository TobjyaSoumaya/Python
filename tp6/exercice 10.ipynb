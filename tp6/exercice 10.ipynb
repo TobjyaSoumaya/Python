{
  "nbformat": 4,
  "nbformat_minor": 0,
  "metadata": {
    "colab": {
      "provenance": []
    },
    "kernelspec": {
      "name": "python3",
      "display_name": "Python 3"
    },
    "language_info": {
      "name": "python"
    }
  },
  "cells": [
    {
      "cell_type": "markdown",
      "source": [
        "**EXERCICE 10**"
      ],
      "metadata": {
        "id": "Dwymtal-YVcg"
      }
    },
    {
      "cell_type": "code",
      "execution_count": null,
      "metadata": {
        "id": "shqcj48XZsfE",
        "outputId": "258e9718-c2d3-4dd0-823b-a5c72d893eba"
      },
      "outputs": [
        {
          "name": "stdout",
          "output_type": "stream",
          "text": [
            "Contenu du fichier example.txt :\n",
            "hello\n",
            "\n",
            "Erreur : L'entier doit être positif. Essayez encore.\n",
            "Vous avez saisi l'entier positif : 6\n"
          ]
        }
      ],
      "source": [
        "def get_file_and_integer():\n",
        "    while True:\n",
        "        try:\n",
        "            # Demander à l'utilisateur de saisir un fichier\n",
        "            filename = input(\"Veuillez saisir le nom du fichier à ouvrir : \")\n",
        "\n",
        "            # Tenter d'ouvrir le fichier\n",
        "            with open(filename, 'r') as file:\n",
        "                content = file.read()\n",
        "                print(f\"Contenu du fichier {filename} :\\n{content}\")\n",
        "                break  # Sortir de la boucle si le fichier est ouvert avec succès\n",
        "        except FileNotFoundError:\n",
        "            # Gestion de l'erreur si le fichier n'est pas trouvé\n",
        "            print(f\"Erreur : Le fichier '{filename}' n'a pas été trouvé. Essayez encore.\")\n",
        "        except Exception as e:\n",
        "            # Gestion de toute autre erreur imprévue\n",
        "            print(f\"Erreur inattendue : {e}. Essayez encore.\")\n",
        "\n",
        "    while True:\n",
        "        try:\n",
        "            # Demander à l'utilisateur de saisir un entier\n",
        "            user_input = input(\"Veuillez saisir un entier positif : \")\n",
        "\n",
        "            # Tenter de convertir l'entrée en entier\n",
        "            number = int(user_input)\n",
        "\n",
        "            # Vérifier que l'entier est positif\n",
        "            if number <= 0:\n",
        "                print(\"Erreur : L'entier doit être positif. Essayez encore.\")\n",
        "            else:\n",
        "                print(f\"Vous avez saisi l'entier positif : {number}\")\n",
        "                break  # Sortir de la boucle si l'entier est valide\n",
        "        except ValueError:\n",
        "            # Gestion de l'erreur si l'entrée ne peut pas être convertie en entier\n",
        "            print(\"Erreur : Veuillez saisir un entier valide.\")\n",
        "        except Exception as e:\n",
        "            # Gestion d'une exception imprévue\n",
        "            print(f\"Erreur inattendue : {e}. Essayez encore.\")\n",
        "\n",
        "# Appel de la fonction principale\n",
        "get_file_and_integer()\n"
      ]
    }
  ]
}