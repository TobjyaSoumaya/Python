{
  "nbformat": 4,
  "nbformat_minor": 0,
  "metadata": {
    "colab": {
      "provenance": []
    },
    "kernelspec": {
      "name": "python3",
      "display_name": "Python 3"
    },
    "language_info": {
      "name": "python"
    }
  },
  "cells": [
    {
      "cell_type": "markdown",
      "source": [
        "**EXERCICE 2**"
      ],
      "metadata": {
        "id": "Dwymtal-YVcg"
      }
    },
    {
      "cell_type": "code",
      "execution_count": 1,
      "metadata": {
        "id": "PDn0P75KXRRl",
        "outputId": "623a9d3d-070f-412f-d2a1-7618344ecc8d",
        "colab": {
          "base_uri": "https://localhost:8080/"
        }
      },
      "outputs": [
        {
          "output_type": "stream",
          "name": "stdout",
          "text": [
            "Résultat : 123\n",
            "Erreur : Impossible de convertir 'abc' en entier.\n"
          ]
        }
      ],
      "source": [
        "def convert_to_int(value):\n",
        "\n",
        "    try:\n",
        "        return int(value)\n",
        "    except (ValueError, TypeError):\n",
        "        raise ValueError(f\"Erreur : Impossible de convertir '{value}' en entier.\")\n",
        "\n",
        "# Exemple d'utilisation\n",
        "try:\n",
        "    result = convert_to_int(\"123\")  # Fonctionne\n",
        "    print(f\"Résultat : {result}\")\n",
        "\n",
        "    result = convert_to_int(\"abc\")  # Provoque une exception\n",
        "    print(f\"Résultat : {result}\")\n",
        "except ValueError as e:\n",
        "    print(e)\n"
      ]
    }
  ]
}