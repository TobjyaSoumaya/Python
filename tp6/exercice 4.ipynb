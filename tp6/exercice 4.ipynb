{
  "cells": [
    {
      "cell_type": "markdown",
      "metadata": {},
      "source": [
        "**EXERCICE 4**"
      ]
    },
    {
      "cell_type": "code",
      "execution_count": null,
      "metadata": {
        "id": "h-eeeaiDZse6",
        "outputId": "d88a0d2a-33cb-4ad3-e269-6fa73141c4f6"
      },
      "outputs": [
        {
          "name": "stdout",
          "output_type": "stream",
          "text": [
            "Âge défini à 13 ans.\n"
          ]
        }
      ],
      "source": [
        "# Définir une exception personnalisée\n",
        "class NegativeAgeError(Exception):\n",
        "    def __init__(self, message=\"L'âge ne peut pas être négatif.\"):\n",
        "        self.message = message\n",
        "        super().__init__(self.message)\n",
        "\n",
        "# Fonction pour définir l'âge\n",
        "def set_age(age):\n",
        "    if age < 0:\n",
        "        raise NegativeAgeError(f\"Âge invalide : {age}. L'âge doit être un nombre positif.\")\n",
        "    return f\"Âge défini à {age} ans.\"\n",
        "\n",
        "# Test de la fonction avec gestion des exceptions\n",
        "try:\n",
        "    user_age = int(input(\"Entrez un âge : \"))\n",
        "    print(set_age(user_age))\n",
        "except NegativeAgeError as e:\n",
        "    print(f\"Erreur : {e}\")\n",
        "except ValueError:\n",
        "    print(\"Veuillez entrer un nombre valide.\")\n"
      ]
    }
  ],
  "metadata": {
    "colab": {
      "provenance": []
    },
    "kernelspec": {
      "display_name": "Python 3",
      "name": "python3"
    },
    "language_info": {
      "name": "python"
    }
  },
  "nbformat": 4,
  "nbformat_minor": 0
}
