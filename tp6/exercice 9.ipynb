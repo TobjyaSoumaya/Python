{
  "nbformat": 4,
  "nbformat_minor": 0,
  "metadata": {
    "colab": {
      "provenance": []
    },
    "kernelspec": {
      "name": "python3",
      "display_name": "Python 3"
    },
    "language_info": {
      "name": "python"
    }
  },
  "cells": [
    {
      "cell_type": "markdown",
      "source": [
        "**EXERCICE 9**"
      ],
      "metadata": {
        "id": "Dwymtal-YVcg"
      }
    },
    {
      "cell_type": "code",
      "execution_count": null,
      "metadata": {
        "id": "cHYsCPG9ZsfD",
        "outputId": "3c0a829d-945f-4273-939a-4d48e8d92774"
      },
      "outputs": [
        {
          "name": "stdout",
          "output_type": "stream",
          "text": [
            "L'entier doit être positif. Essayez encore.\n",
            "Vous avez saisi l'entier positif : 3\n"
          ]
        }
      ],
      "source": [
        "def get_positive_integer():\n",
        "    while True:\n",
        "        try:\n",
        "            # Demande à l'utilisateur de saisir un entier\n",
        "            user_input = input(\"Veuillez saisir un entier positif : \")\n",
        "            # Tente de convertir l'entrée en entier\n",
        "            number = int(user_input)\n",
        "            # Vérifie si l'entier est positif\n",
        "            if number <= 0:\n",
        "                print(\"L'entier doit être positif. Essayez encore.\")\n",
        "            else:\n",
        "                return number  # Si l'entier est valide et positif, on le retourne\n",
        "        except ValueError:\n",
        "            # Si l'entrée ne peut pas être convertie en entier\n",
        "            print(\"Erreur : Veuillez saisir un entier valide.\")\n",
        "\n",
        "#exemple d'utilisation\n",
        "result = get_positive_integer()\n",
        "print(f\"Vous avez saisi l'entier positif : {result}\")\n",
        "\n"
      ]
    }
  ]
}