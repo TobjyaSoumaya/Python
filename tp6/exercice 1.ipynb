{
  "nbformat": 4,
  "nbformat_minor": 0,
  "metadata": {
    "colab": {
      "provenance": []
    },
    "kernelspec": {
      "name": "python3",
      "display_name": "Python 3"
    },
    "language_info": {
      "name": "python"
    }
  },
  "cells": [
    {
      "cell_type": "markdown",
      "source": [
        "**EXERCICE 1**"
      ],
      "metadata": {
        "id": "Dwymtal-YVcg"
      }
    },
    {
      "cell_type": "code",
      "execution_count": null,
      "metadata": {
        "id": "GU5r3FL_Wgsi",
        "outputId": "870e67d8-05ce-4e51-a796-61fa99f1ffc7"
      },
      "outputs": [
        {
          "name": "stdout",
          "output_type": "stream",
          "text": [
            "Résultat : 5.0\n"
          ]
        }
      ],
      "source": [
        "def safe_division(a, b):\n",
        "\n",
        "    if b == 0:\n",
        "        raise ZeroDivisionError(\"Erreur : Division par zéro n'est pas permise.\")\n",
        "    return a / b\n",
        "\n",
        "# Exemple d'utilisation\n",
        "try:\n",
        "    result = safe_division(10, 2)\n",
        "    print(f\"Résultat : {result}\")\n",
        "except ZeroDivisionError as e:\n",
        "    print(e)\n"
      ]
    }
  ]
}