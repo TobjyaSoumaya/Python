{
  "nbformat": 4,
  "nbformat_minor": 0,
  "metadata": {
    "colab": {
      "provenance": []
    },
    "kernelspec": {
      "name": "python3",
      "display_name": "Python 3"
    },
    "language_info": {
      "name": "python"
    }
  },
  "cells": [
    {
      "cell_type": "markdown",
      "source": [
        "**EXERCICE 6**"
      ],
      "metadata": {
        "id": "Dwymtal-YVcg"
      }
    },
    {
      "cell_type": "code",
      "execution_count": null,
      "metadata": {
        "id": "YspXTUhdZse-",
        "outputId": "ef14c6a0-0753-4b38-cf9c-c5c86566b47e"
      },
      "outputs": [
        {
          "name": "stdout",
          "output_type": "stream",
          "text": [
            "Résultat : 5.0\n",
            "La division a été effectuée avec succès.\n",
            "Fin de l'exécution de la fonction.\n",
            "Erreur : Division par zéro n'est pas permise.\n",
            "Fin de l'exécution de la fonction.\n"
          ]
        }
      ],
      "source": [
        "def safe_division(a, b):\n",
        "    try:\n",
        "        if b == 0:\n",
        "            raise ZeroDivisionError(\"Erreur : Division par zéro n'est pas permise.\")\n",
        "        result = a / b\n",
        "    except ZeroDivisionError as e:\n",
        "        print(e)\n",
        "    else:\n",
        "        # Ce bloc s'exécute uniquement si aucune exception n'est levée\n",
        "        print(f\"Résultat : {result}\")\n",
        "        print(\"La division a été effectuée avec succès.\")\n",
        "    finally:\n",
        "        # Ce bloc s'exécute toujours, qu'il y ait une exception ou non\n",
        "        print(\"Fin de l'exécution de la fonction.\")\n",
        "\n",
        "# Exemple d'utilisation\n",
        "safe_division(10, 2)\n",
        "safe_division(10, 0)\n"
      ]
    }
  ]
}