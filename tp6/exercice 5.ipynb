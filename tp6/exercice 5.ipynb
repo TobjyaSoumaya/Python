{
  "nbformat": 4,
  "nbformat_minor": 0,
  "metadata": {
    "colab": {
      "provenance": []
    },
    "kernelspec": {
      "name": "python3",
      "display_name": "Python 3"
    },
    "language_info": {
      "name": "python"
    }
  },
  "cells": [
    {
      "cell_type": "markdown",
      "source": [
        "**EXERCICE 5**"
      ],
      "metadata": {
        "id": "Dwymtal-YVcg"
      }
    },
    {
      "cell_type": "code",
      "execution_count": null,
      "metadata": {
        "id": "VzqbRa9EZse9",
        "outputId": "cc21e670-178e-45e9-f409-25e5ef8b0eb9"
      },
      "outputs": [
        {
          "name": "stdout",
          "output_type": "stream",
          "text": [
            "Erreur : Veuillez entrer un nombre entier valide.\n"
          ]
        }
      ],
      "source": [
        "def process_input(user_input):\n",
        "    try:\n",
        "        # Convertir l'entrée en entier\n",
        "        number = int(user_input)\n",
        "        # Effectuer une division par 10\n",
        "        result = 10 / number\n",
        "        print(f\"Résultat : {result}\")\n",
        "    except ValueError:\n",
        "        print(\"Erreur : Veuillez entrer un nombre entier valide.\")\n",
        "    except ZeroDivisionError:\n",
        "        print(\"Erreur : Division par zéro impossible.\")\n",
        "\n",
        "# Test de la fonction\n",
        "user_input = input(\"Entrez un nombre : \")\n",
        "process_input(user_input)\n"
      ]
    }
  ]
}