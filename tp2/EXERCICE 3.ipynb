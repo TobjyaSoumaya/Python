{
  "nbformat": 4,
  "nbformat_minor": 0,
  "metadata": {
    "colab": {
      "provenance": []
    },
    "kernelspec": {
      "name": "python3",
      "display_name": "Python 3"
    },
    "language_info": {
      "name": "python"
    }
  },
  "cells": [
    {
      "cell_type": "code",
      "execution_count": 4,
      "metadata": {
        "colab": {
          "base_uri": "https://localhost:8080/"
        },
        "id": "wxHrcfZF51wD",
        "outputId": "2c68f8b1-9f07-4f17-af88-5d26886c2a27"
      },
      "outputs": [
        {
          "output_type": "stream",
          "name": "stdout",
          "text": [
            "Le solde actuel est de : 500 MAD.\n",
            "200 MAD déposés. Nouveau solde : 700 MAD.\n",
            "100 MAD retirés. Nouveau solde : 600 MAD.\n",
            "Fonds insuffisants.\n",
            "Le solde actuel est de : 600 MAD.\n"
          ]
        }
      ],
      "source": [
        "class CompteBancaire:\n",
        "    def __init__(self, titulaire, solde=0):\n",
        "        self.titulaire = titulaire\n",
        "        self.solde = solde\n",
        "\n",
        "    def deposer(self, montant):\n",
        "        if montant > 0:\n",
        "            self.solde += montant\n",
        "            print(f\"{montant} MAD déposés. Nouveau solde : {self.solde} MAD.\")\n",
        "        else:\n",
        "            print(\"Le montant à déposer doit être positif.\")\n",
        "\n",
        "    def retirer(self, montant):\n",
        "        if montant > 0:\n",
        "            if montant <= self.solde:\n",
        "                self.solde -= montant\n",
        "                print(f\"{montant} MAD retirés. Nouveau solde : {self.solde} MAD.\")\n",
        "            else:\n",
        "                print(\"Fonds insuffisants.\")\n",
        "        else:\n",
        "            print(\"Le montant à retirer doit être positif.\")\n",
        "\n",
        "    def afficher_solde(self):\n",
        "        print(f\"Le solde actuel est de : {self.solde} MAD.\")\n",
        "\n",
        "# Création d'un compte bancaire\n",
        "mon_compte = CompteBancaire(\"soumaya\", 500)\n",
        "\n",
        "# Test des méthodes\n",
        "mon_compte.afficher_solde()\n",
        "mon_compte.deposer(200)\n",
        "mon_compte.retirer(100)\n",
        "mon_compte.retirer(700)\n",
        "mon_compte.afficher_solde()\n"
      ]
    }
  ]
}