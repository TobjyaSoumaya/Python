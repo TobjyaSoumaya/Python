{
  "nbformat": 4,
  "nbformat_minor": 0,
  "metadata": {
    "colab": {
      "provenance": []
    },
    "kernelspec": {
      "name": "python3",
      "display_name": "Python 3"
    },
    "language_info": {
      "name": "python"
    }
  },
  "cells": [
    {
      "cell_type": "code",
      "execution_count": 8,
      "metadata": {
        "colab": {
          "base_uri": "https://localhost:8080/"
        },
        "id": "wxHrcfZF51wD",
        "outputId": "c70081a3-f415-40c0-a308-e6375648f308"
      },
      "outputs": [
        {
          "output_type": "stream",
          "name": "stdout",
          "text": [
            "Le livre 'ABC' par A (1900) a été ajouté à la bibliothèque.\n",
            "Le livre 'EFG' par B (2000) a été ajouté à la bibliothèque.\n",
            "Livres disponibles dans la bibliothèque :\n",
            " - 'ABC' par A (1900)\n",
            " - 'EFG' par B (2000)\n"
          ]
        }
      ],
      "source": [
        "class Personne:\n",
        "    def __init__(self, nom, prenom, age):\n",
        "        self.nom = nom\n",
        "        self.prenom = prenom\n",
        "        self.age = age\n",
        "        self.amis = []\n",
        "\n",
        "    def ajouter_ami(self, ami):\n",
        "        \"\"\"Ajoute un ami à la liste.\"\"\"\n",
        "        if ami not in self.amis:  # Vérifie que l'ami n'est pas déjà dans la liste\n",
        "            self.amis.append(ami)  # Ajoute l'ami\n",
        "            print(f\"{ami} a été ajouté à la liste des amis de {self.prenom}.\")\n",
        "        else:\n",
        "            print(f\"{ami} est déjà dans la liste des amis de {self.prenom}.\")\n",
        "\n",
        "    def afficher_amis(self):\n",
        "        \"\"\"Affiche la liste des amis.\"\"\"\n",
        "        if self.amis:  # Vérifie si la liste d'amis n'est pas vide\n",
        "            print(f\"Les amis de {self.prenom} {self.nom} sont :\")\n",
        "            for ami in self.amis:  # Parcourt chaque ami dans la liste\n",
        "                print(f\"- {ami}\")\n",
        "        else:\n",
        "            print(f\"{self.prenom} {self.nom} n'a pas encore d'amis.\")\n",
        "\n",
        "# Création d'instances\n",
        "personne1 = Personne(\"Dupont\", \"Alice\", 25)\n",
        "personne2 = Personne(\"Martin\", \"Paul\", 30)\n",
        "\n",
        "# Ajouter des amis\n",
        "personne1.ajouter_ami(\"Paul\")\n",
        "personne1.ajouter_ami(\"Julie\")\n",
        "personne1.ajouter_ami(\"Paul\")  # Test de doublon\n",
        "\n",
        "# Afficher les amis\n",
        "personne1.afficher_amis()\n",
        "\n",
        "# Test avec une autre personne (sans amis)\n",
        "personne2.afficher_amis()\n"
      ]
    }
  ]
}