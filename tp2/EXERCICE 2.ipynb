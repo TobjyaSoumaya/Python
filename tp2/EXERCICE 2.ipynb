{
  "nbformat": 4,
  "nbformat_minor": 0,
  "metadata": {
    "colab": {
      "provenance": []
    },
    "kernelspec": {
      "name": "python3",
      "display_name": "Python 3"
    },
    "language_info": {
      "name": "python"
    }
  },
  "cells": [
    {
      "cell_type": "code",
      "execution_count": 3,
      "metadata": {
        "colab": {
          "base_uri": "https://localhost:8080/"
        },
        "id": "wxHrcfZF51wD",
        "outputId": "8b9e72f2-4e8e-42be-8ff2-fb4b45b3f8ab"
      },
      "outputs": [
        {
          "output_type": "stream",
          "name": "stdout",
          "text": [
            "Voiture: Toyota Corolla, Année: 2020\n",
            "Voiture: Renault Clio, Année: 2018\n",
            "Voiture: Tesla Model S, Année: 2022\n"
          ]
        }
      ],
      "source": [
        "class Voiture:\n",
        "    def __init__(self, marque, modele, annee):\n",
        "        self.marque = marque\n",
        "        self.modele = modele\n",
        "        self.annee = annee\n",
        "\n",
        "    def afficher_info(self):\n",
        "        print(f\"Voiture: {self.marque} {self.modele}, Année: {self.annee}\")\n",
        "\n",
        "\n",
        "# Création des instances\n",
        "voiture1 = Voiture(\"Toyota\", \"Corolla\", 2020)\n",
        "voiture2 = Voiture(\"Renault\", \"Clio\", 2018)\n",
        "voiture3 = Voiture(\"Tesla\", \"Model S\", 2022)\n",
        "\n",
        "# Affichage des informations\n",
        "voiture1.afficher_info()\n",
        "voiture2.afficher_info()\n",
        "voiture3.afficher_info()\n"
      ]
    }
  ]
}