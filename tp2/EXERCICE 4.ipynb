{
  "nbformat": 4,
  "nbformat_minor": 0,
  "metadata": {
    "colab": {
      "provenance": []
    },
    "kernelspec": {
      "name": "python3",
      "display_name": "Python 3"
    },
    "language_info": {
      "name": "python"
    }
  },
  "cells": [
    {
      "cell_type": "code",
      "execution_count": 5,
      "metadata": {
        "colab": {
          "base_uri": "https://localhost:8080/"
        },
        "id": "wxHrcfZF51wD",
        "outputId": "4fef48b9-cfcf-494e-d858-d65ed0d9fe3b"
      },
      "outputs": [
        {
          "output_type": "stream",
          "name": "stdout",
          "text": [
            "Bonjour, je m'appelle Soumaya Tobjya et j'ai 21 ans.\n",
            "Bonjour, je m'appelle Soumaya Tobjya et j'ai 21 ans.\n",
            "Soumaya Tobjya (Matricule : E12345) est en train d'étudier.\n"
          ]
        }
      ],
      "source": [
        "class Personne:\n",
        "    def __init__(self, nom, prenom, age):\n",
        "        self.nom = nom\n",
        "        self.prenom = prenom\n",
        "        self.age = age\n",
        "\n",
        "    def se_presenter(self):\n",
        "        print(f\"Bonjour, je m'appelle {self.prenom} {self.nom} et j'ai {self.age} ans.\")\n",
        "\n",
        "class Etudiant(Personne):\n",
        "    def __init__(self, nom, prenom, age, matricule):\n",
        "        # Appel au constructeur de la classe mère (Personne) pour initialiser ses attributs\n",
        "        super().__init__(nom, prenom, age)\n",
        "        self.matricule = matricule\n",
        "\n",
        "    def etudier(self):\n",
        "        print(f\"{self.prenom} {self.nom} (Matricule : {self.matricule}) est en train d'étudier.\")\n",
        "\n",
        "# Création d'une instance de Personne\n",
        "personne1 = Personne(\"Tobjya\", \"Soumaya\", 21)\n",
        "personne1.se_presenter()\n",
        "\n",
        "# Création d'une instance d'Etudiant\n",
        "etudiant1 = Etudiant(\"Tobjya\", \"Soumaya\", 21, \"E12345\")\n",
        "etudiant1.se_presenter()  # Utilise la méthode héritée de Personne\n",
        "etudiant1.etudier()       # Utilise la méthode spécifique à Etudiant\n"
      ]
    }
  ]
}