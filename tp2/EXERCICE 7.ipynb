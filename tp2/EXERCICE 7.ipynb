{
  "nbformat": 4,
  "nbformat_minor": 0,
  "metadata": {
    "colab": {
      "provenance": []
    },
    "kernelspec": {
      "name": "python3",
      "display_name": "Python 3"
    },
    "language_info": {
      "name": "python"
    }
  },
  "cells": [
    {
      "cell_type": "code",
      "execution_count": 8,
      "metadata": {
        "colab": {
          "base_uri": "https://localhost:8080/"
        },
        "id": "wxHrcfZF51wD",
        "outputId": "c70081a3-f415-40c0-a308-e6375648f308"
      },
      "outputs": [
        {
          "output_type": "stream",
          "name": "stdout",
          "text": [
            "Le livre 'ABC' par A (1900) a été ajouté à la bibliothèque.\n",
            "Le livre 'EFG' par B (2000) a été ajouté à la bibliothèque.\n",
            "Livres disponibles dans la bibliothèque :\n",
            " - 'ABC' par A (1900)\n",
            " - 'EFG' par B (2000)\n"
          ]
        }
      ],
      "source": [
        "class Livre:\n",
        "    def __init__(self, titre, auteur, annee):\n",
        "        self.titre = titre\n",
        "        self.auteur = auteur\n",
        "        self.annee = annee\n",
        "\n",
        "    def __str__(self):\n",
        "        return f\"'{self.titre}' par {self.auteur} ({self.annee})\"\n",
        "\n",
        "\n",
        "class Bibliotheque:\n",
        "    def __init__(self):\n",
        "        self.livres = []  # Initialise une liste vide pour stocker les livres\n",
        "\n",
        "    def ajouter_livre(self, livre):\n",
        "        self.livres.append(livre)  # Ajoute un livre à la liste\n",
        "        print(f\"Le livre {livre} a été ajouté à la bibliothèque.\")  #Python remplace automatiquement {livre} par le résultat de livre.__str__() !!\n",
        "\n",
        "    def afficher_livres(self):\n",
        "        if not self.livres:  # Vérifie si la liste est vide\n",
        "            print(\"La bibliothèque ne contient aucun livre.\")\n",
        "        else:\n",
        "            print(\"Livres disponibles dans la bibliothèque :\")\n",
        "            for livre in self.livres:  # Parcourt la liste des livres\n",
        "                print(f\" - {livre}\")\n",
        "\n",
        "\n",
        "# Création d'instances de livres\n",
        "livre1 = Livre(\"ABC\", \"A\", 1900)\n",
        "livre2 = Livre(\"EFG\", \"B\", 2000)\n",
        "\n",
        "\n",
        "# Création d'une instance de Bibliotheque\n",
        "ma_bibliotheque = Bibliotheque()\n",
        "\n",
        "# Ajout des livres à la bibliothèque\n",
        "ma_bibliotheque.ajouter_livre(livre1)\n",
        "ma_bibliotheque.ajouter_livre(livre2)\n",
        "\n",
        "# Affichage des livres disponibles dans la bibliothèque\n",
        "ma_bibliotheque.afficher_livres()\n",
        "\n",
        "\n"
      ]
    }
  ]
}