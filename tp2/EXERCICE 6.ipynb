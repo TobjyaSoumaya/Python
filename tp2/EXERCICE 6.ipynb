{
  "nbformat": 4,
  "nbformat_minor": 0,
  "metadata": {
    "colab": {
      "provenance": []
    },
    "kernelspec": {
      "name": "python3",
      "display_name": "Python 3"
    },
    "language_info": {
      "name": "python"
    }
  },
  "cells": [
    {
      "cell_type": "code",
      "execution_count": 7,
      "metadata": {
        "colab": {
          "base_uri": "https://localhost:8080/"
        },
        "id": "wxHrcfZF51wD",
        "outputId": "4e583864-412a-47c2-c0d8-650e8740105e"
      },
      "outputs": [
        {
          "output_type": "stream",
          "name": "stdout",
          "text": [
            "La surface du rectangle est : 15\n",
            "Le périmètre du rectangle est : 16\n"
          ]
        }
      ],
      "source": [
        "class Rectangle:\n",
        "    def __init__(self, largeur, hauteur):\n",
        "        self.largeur = largeur\n",
        "        self.hauteur = hauteur\n",
        "\n",
        "    #calculer la surface\n",
        "    def calculer_surface(self):\n",
        "        return self.largeur * self.hauteur\n",
        "\n",
        "    #calculer le perimetre\n",
        "    def calculer_perimetre(self):\n",
        "        return 2 * (self.largeur + self.hauteur)\n",
        "\n",
        "# Création d'une instance de Rectangle\n",
        "mon_rectangle = Rectangle(5, 3)\n",
        "\n",
        "# Calcul et affichage de la surface\n",
        "surface = mon_rectangle.calculer_surface()\n",
        "print(f\"La surface du rectangle est : {surface}\")\n",
        "\n",
        "# Calcul et affichage du périmètre\n",
        "perimetre = mon_rectangle.calculer_perimetre()\n",
        "print(f\"Le périmètre du rectangle est : {perimetre}\")\n",
        "\n",
        "\n"
      ]
    }
  ]
}