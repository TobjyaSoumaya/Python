{
  "nbformat": 4,
  "nbformat_minor": 0,
  "metadata": {
    "colab": {
      "provenance": []
    },
    "kernelspec": {
      "name": "python3",
      "display_name": "Python 3"
    },
    "language_info": {
      "name": "python"
    }
  },
  "cells": [
    {
      "cell_type": "code",
      "execution_count": 6,
      "metadata": {
        "colab": {
          "base_uri": "https://localhost:8080/"
        },
        "id": "wxHrcfZF51wD",
        "outputId": "fc7d9ccd-63bc-43a9-f11b-28e68e0de5db"
      },
      "outputs": [
        {
          "output_type": "stream",
          "name": "stdout",
          "text": [
            "fait un bruit .\n",
            "Woof!\n",
            "Miaou!\n"
          ]
        }
      ],
      "source": [
        "class Animal:\n",
        "    def faire_du_bruit(self):\n",
        "        print(\"fait un bruit .\")\n",
        "\n",
        "class Chien(Animal):\n",
        "    def faire_du_bruit(self):\n",
        "        print(\"Woof!\")\n",
        "\n",
        "class Chat(Animal):\n",
        "    def faire_du_bruit(self):\n",
        "        print(\"Miaou!\")\n",
        "\n",
        "# Création d'instances\n",
        "animal = Animal()\n",
        "chien = Chien()\n",
        "chat = Chat()\n",
        "\n",
        "# Tests\n",
        "animal.faire_du_bruit()\n",
        "chien.faire_du_bruit()\n",
        "chat.faire_du_bruit()\n",
        "\n"
      ]
    }
  ]
}