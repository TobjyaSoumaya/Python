{
  "nbformat": 4,
  "nbformat_minor": 0,
  "metadata": {
    "colab": {
      "provenance": []
    },
    "kernelspec": {
      "name": "python3",
      "display_name": "Python 3"
    },
    "language_info": {
      "name": "python"
    }
  },
  "cells": [
    {
      "cell_type": "code",
      "execution_count": 8,
      "metadata": {
        "colab": {
          "base_uri": "https://localhost:8080/"
        },
        "id": "E4tGRyUg0aL0",
        "outputId": "80a508b1-aefe-4180-9ffd-9393fb1a3b8e"
      },
      "outputs": [
        {
          "output_type": "stream",
          "name": "stdout",
          "text": [
            "9\n",
            "0\n",
            "16\n",
            "2.25\n"
          ]
        }
      ],
      "source": [
        "# Définir la fonction lambda\n",
        "carre = lambda x: x ** 2  #syntaxe --> lambda arguments: expression\n",
        "\n",
        "# Tests\n",
        "print(carre(3))\n",
        "print(carre(0))\n",
        "print(carre(-4))\n",
        "print(carre(1.5))\n"
      ]
    }
  ]
}