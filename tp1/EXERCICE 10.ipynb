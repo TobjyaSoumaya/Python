{
  "nbformat": 4,
  "nbformat_minor": 0,
  "metadata": {
    "colab": {
      "provenance": []
    },
    "kernelspec": {
      "name": "python3",
      "display_name": "Python 3"
    },
    "language_info": {
      "name": "python"
    }
  },
  "cells": [
    {
      "cell_type": "code",
      "execution_count": 12,
      "metadata": {
        "colab": {
          "base_uri": "https://localhost:8080/"
        },
        "id": "E4tGRyUg0aL0",
        "outputId": "fd14653a-e83e-49a6-ed19-739f752ea989"
      },
      "outputs": [
        {
          "output_type": "stream",
          "name": "stdout",
          "text": [
            "{'a': 1, 'b': 5, 'c': 7, 'd': 5}\n"
          ]
        }
      ],
      "source": [
        "def fusionner_dicts(dict1, dict2):\n",
        "\n",
        "    for cle in dict2:  # Parcourir toutes les clés de dict2\n",
        "        if cle in dict1:\n",
        "            dict1[cle] += dict2[cle]  # Additioner les valeurs\n",
        "        else:\n",
        "            dict1[cle] = dict2[cle]  # Ajouter la nouvelle clé avec sa valeur\n",
        "    return dict1\n",
        "\n",
        "# Tests\n",
        "dict1 = {\"a\": 1, \"b\": 2, \"c\": 3}\n",
        "dict2 = {\"b\": 3, \"c\": 4, \"d\": 5}\n",
        "\n",
        "resultat = fusionner_dicts(dict1, dict2)\n",
        "print(resultat)\n"
      ]
    }
  ]
}