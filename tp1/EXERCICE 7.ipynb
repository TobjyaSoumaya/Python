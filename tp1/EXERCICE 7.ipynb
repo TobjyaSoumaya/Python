{
  "nbformat": 4,
  "nbformat_minor": 0,
  "metadata": {
    "colab": {
      "provenance": []
    },
    "kernelspec": {
      "name": "python3",
      "display_name": "Python 3"
    },
    "language_info": {
      "name": "python"
    }
  },
  "cells": [
    {
      "cell_type": "code",
      "execution_count": 9,
      "metadata": {
        "colab": {
          "base_uri": "https://localhost:8080/"
        },
        "id": "E4tGRyUg0aL0",
        "outputId": "508ea4e2-d954-4526-83ea-8a4bd3fe7040"
      },
      "outputs": [
        {
          "output_type": "stream",
          "name": "stdout",
          "text": [
            "Bonjour, Alice!\n",
            "Salut, Bob!\n",
            "Bienvenue, Caroline!\n",
            "Bonjour, David!\n"
          ]
        }
      ],
      "source": [
        "def salutation(nom, message=\"Bonjour\"):\n",
        "\n",
        "    print(f\"{message}, {nom}!\")\n",
        "\n",
        "# Tests\n",
        "salutation(\"Alice\")\n",
        "salutation(\"Bob\", \"Salut\")\n",
        "salutation(\"Caroline\", \"Bienvenue\")\n",
        "salutation(\"David\")"
      ]
    }
  ]
}