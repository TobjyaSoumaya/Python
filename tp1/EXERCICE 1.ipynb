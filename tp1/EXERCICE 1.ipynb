{
  "nbformat": 4,
  "nbformat_minor": 0,
  "metadata": {
    "colab": {
      "provenance": []
    },
    "kernelspec": {
      "name": "python3",
      "display_name": "Python 3"
    },
    "language_info": {
      "name": "python"
    }
  },
  "cells": [
    {
      "cell_type": "code",
      "execution_count": 1,
      "metadata": {
        "colab": {
          "base_uri": "https://localhost:8080/"
        },
        "id": "E4tGRyUg0aL0",
        "outputId": "e8e6b8d5-fe62-4847-cbf9-488408199381"
      },
      "outputs": [
        {
          "output_type": "stream",
          "name": "stdout",
          "text": [
            "10\n",
            "0\n",
            "0\n",
            "0\n"
          ]
        }
      ],
      "source": [
        "def somme_liste(liste):\n",
        "\n",
        "    return sum(liste)\n",
        "\n",
        "# Tests\n",
        "print(somme_liste([1, 2, 3, 4]))\n",
        "print(somme_liste([-1, 5, 3, -7]))\n",
        "print(somme_liste([0]))\n",
        "print(somme_liste([]))"
      ]
    }
  ]
}