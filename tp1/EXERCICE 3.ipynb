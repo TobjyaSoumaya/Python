{
  "nbformat": 4,
  "nbformat_minor": 0,
  "metadata": {
    "colab": {
      "provenance": []
    },
    "kernelspec": {
      "name": "python3",
      "display_name": "Python 3"
    },
    "language_info": {
      "name": "python"
    }
  },
  "cells": [
    {
      "cell_type": "code",
      "execution_count": 3,
      "metadata": {
        "colab": {
          "base_uri": "https://localhost:8080/"
        },
        "id": "E4tGRyUg0aL0",
        "outputId": "097f3723-ba22-4ddf-bd9a-01ed927c6374"
      },
      "outputs": [
        {
          "output_type": "stream",
          "name": "stdout",
          "text": [
            "{2, 3}\n",
            "{'c'}\n",
            "set()\n",
            "set()\n"
          ]
        }
      ],
      "source": [
        "def intersection(ensemble1, ensemble2):\n",
        "\n",
        "    return ensemble1.intersection(ensemble2)\n",
        "\n",
        "# Tests\n",
        "print(intersection({1, 2, 3}, {2, 3, 4}))\n",
        "print(intersection({\"a\", \"b\", \"c\"}, {\"c\", \"d\", \"e\"}))\n",
        "print(intersection({1, 2}, {3, 4}))\n",
        "print(intersection(set(), {1, 2, 3}))\n"
      ]
    }
  ]
}