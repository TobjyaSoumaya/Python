{
  "nbformat": 4,
  "nbformat_minor": 0,
  "metadata": {
    "colab": {
      "provenance": []
    },
    "kernelspec": {
      "name": "python3",
      "display_name": "Python 3"
    },
    "language_info": {
      "name": "python"
    }
  },
  "cells": [
    {
      "cell_type": "code",
      "execution_count": 2,
      "metadata": {
        "colab": {
          "base_uri": "https://localhost:8080/"
        },
        "id": "E4tGRyUg0aL0",
        "outputId": "02585e1a-fa73-4929-84e2-234e16dfdcaf"
      },
      "outputs": [
        {
          "output_type": "stream",
          "name": "stdout",
          "text": [
            "5\n",
            "-3\n",
            "0\n",
            "2.3\n"
          ]
        }
      ],
      "source": [
        "def max_tuple(t):\n",
        "\n",
        "    return max(t)\n",
        "\n",
        "# Tests\n",
        "print(max_tuple((1, 5, 3)))\n",
        "print(max_tuple((-10, -5, -3, -7)))\n",
        "print(max_tuple((0,)))\n",
        "print(max_tuple((1.5, 2.3, 0.7)))"
      ]
    }
  ]
}