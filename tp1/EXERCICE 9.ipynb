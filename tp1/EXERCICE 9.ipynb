{
  "nbformat": 4,
  "nbformat_minor": 0,
  "metadata": {
    "colab": {
      "provenance": []
    },
    "kernelspec": {
      "name": "python3",
      "display_name": "Python 3"
    },
    "language_info": {
      "name": "python"
    }
  },
  "cells": [
    {
      "cell_type": "code",
      "execution_count": 11,
      "metadata": {
        "colab": {
          "base_uri": "https://localhost:8080/"
        },
        "id": "E4tGRyUg0aL0",
        "outputId": "9df577d2-62bc-4812-e4eb-c17c568a575f"
      },
      "outputs": [
        {
          "output_type": "stream",
          "name": "stdout",
          "text": [
            "{'mots': 5, 'caracteres': 19}\n"
          ]
        }
      ],
      "source": [
        "def analyse_texte(texte):\n",
        "\n",
        "    nombre_mots = len(texte.split())\n",
        "\n",
        "    # Compter les caractères en ignorant les espaces\n",
        "    nombre_caracteres = 0\n",
        "    for c in texte:\n",
        "        if not c.isspace():  # Si le caractère n'est pas un espace\n",
        "            nombre_caracteres += 1\n",
        "\n",
        "    return {\"mots\": nombre_mots, \"caracteres\": nombre_caracteres}\n",
        "\n",
        "# Test\n",
        "texte = \"Bonjour tout le monde !\"\n",
        "resultat = analyse_texte(texte)\n",
        "print(resultat)\n",
        "\n"
      ]
    }
  ]
}