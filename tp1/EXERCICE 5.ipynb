{
  "nbformat": 4,
  "nbformat_minor": 0,
  "metadata": {
    "colab": {
      "provenance": []
    },
    "kernelspec": {
      "name": "python3",
      "display_name": "Python 3"
    },
    "language_info": {
      "name": "python"
    }
  },
  "cells": [
    {
      "cell_type": "code",
      "execution_count": 7,
      "metadata": {
        "colab": {
          "base_uri": "https://localhost:8080/"
        },
        "id": "E4tGRyUg0aL0",
        "outputId": "b93e96ca-bd27-45da-c027-bcdc80f554c0"
      },
      "outputs": [
        {
          "output_type": "stream",
          "name": "stdout",
          "text": [
            "120\n",
            "1\n",
            "1\n",
            "5040\n"
          ]
        }
      ],
      "source": [
        "def factorielle(n):\n",
        "\n",
        "    if n < 0:\n",
        "        raise ValueError(\"La factorielle n'est pas définie pour les nombres négatifs.\")\n",
        "        # raise --> arrêter l'exécution normale d'un programme et de signaler qu'une erreur ou un cas spécial s'est produit.\n",
        "    if n == 0 or n == 1:\n",
        "        return 1\n",
        "    return n * factorielle(n - 1)\n",
        "\n",
        "# Tests\n",
        "print(factorielle(5))\n",
        "print(factorielle(0))\n",
        "print(factorielle(1))\n",
        "print(factorielle(7))\n",
        "\n"
      ]
    }
  ]
}