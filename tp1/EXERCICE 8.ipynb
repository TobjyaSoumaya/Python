{
  "nbformat": 4,
  "nbformat_minor": 0,
  "metadata": {
    "colab": {
      "provenance": []
    },
    "kernelspec": {
      "name": "python3",
      "display_name": "Python 3"
    },
    "language_info": {
      "name": "python"
    }
  },
  "cells": [
    {
      "cell_type": "code",
      "execution_count": 10,
      "metadata": {
        "colab": {
          "base_uri": "https://localhost:8080/"
        },
        "id": "E4tGRyUg0aL0",
        "outputId": "f2918ddd-24c5-4c23-8c71-2eb2cdbb1dba"
      },
      "outputs": [
        {
          "output_type": "stream",
          "name": "stdout",
          "text": [
            "6\n",
            "0\n",
            "100\n"
          ]
        }
      ],
      "source": [
        "def somme_varargs(*args):\n",
        "\n",
        "    return sum(args)\n",
        "\n",
        "# Tests\n",
        "print(somme_varargs(1, 2, 3))\n",
        "print(somme_varargs())\n",
        "print(somme_varargs(100))"
      ]
    }
  ]
}