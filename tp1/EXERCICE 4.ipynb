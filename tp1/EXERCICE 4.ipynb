{
  "nbformat": 4,
  "nbformat_minor": 0,
  "metadata": {
    "colab": {
      "provenance": []
    },
    "kernelspec": {
      "name": "python3",
      "display_name": "Python 3"
    },
    "language_info": {
      "name": "python"
    }
  },
  "cells": [
    {
      "cell_type": "code",
      "execution_count": 6,
      "metadata": {
        "colab": {
          "base_uri": "https://localhost:8080/"
        },
        "id": "E4tGRyUg0aL0",
        "outputId": "89408ca1-37f1-4763-8fc6-b0ff8c912fc0"
      },
      "outputs": [
        {
          "output_type": "stream",
          "name": "stdout",
          "text": [
            "{'apple': 3, 'banana': 2, 'orange': 1}\n",
            "{'chat': 2, 'chien': 1, 'oiseau': 1}\n",
            "{}\n",
            "{'unique': 1}\n"
          ]
        }
      ],
      "source": [
        "def compte_occurences(liste):\n",
        "\n",
        "    occurences = {}   #En Python, {} est la syntaxe pour créer un dictionnaire vide.\n",
        "  #_______ Un dictionnaire permet d'associer chaque mot (clé) à son nombre d'occurrences (valeur).\n",
        "    for mot in liste:\n",
        "        if mot in occurences:\n",
        "            occurences[mot] += 1\n",
        "        else:\n",
        "            occurences[mot] = 1\n",
        "    return occurences\n",
        "\n",
        "# Tests\n",
        "print(compte_occurences([\"apple\", \"banana\", \"apple\", \"orange\", \"banana\", \"apple\"]))\n",
        "\n",
        "print(compte_occurences([\"chat\", \"chien\", \"chat\", \"oiseau\"]))\n",
        "\n",
        "print(compte_occurences([]))\n",
        "\n",
        "print(compte_occurences([\"unique\"]))\n"
      ]
    },
    {
      "cell_type": "code",
      "source": [
        "def compte_occurences(liste):\n",
        "    return {mot: liste.count(mot) for mot in set(liste)}\n",
        "\n",
        "# Exemple d'utilisation\n",
        "ma_liste = [\"apple\", \"banana\", \"apple\", \"orange\", \"apple\", \"banana\"]\n",
        "resultat = compte_occurences(ma_liste)\n",
        "\n",
        "# Afficher le résultat\n",
        "print(resultat)"
      ],
      "metadata": {
        "id": "9kNDKO5V1KOz",
        "outputId": "f9bc07d6-db7f-4518-c625-79fe38c401fe",
        "colab": {
          "base_uri": "https://localhost:8080/"
        }
      },
      "execution_count": 5,
      "outputs": [
        {
          "output_type": "stream",
          "name": "stdout",
          "text": [
            "{'apple': 3, 'banana': 2, 'orange': 1}\n"
          ]
        }
      ]
    }
  ]
}