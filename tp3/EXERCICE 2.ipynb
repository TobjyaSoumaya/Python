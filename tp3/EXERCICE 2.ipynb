{
  "nbformat": 4,
  "nbformat_minor": 0,
  "metadata": {
    "colab": {
      "provenance": []
    },
    "kernelspec": {
      "name": "python3",
      "display_name": "Python 3"
    },
    "language_info": {
      "name": "python"
    }
  },
  "cells": [
    {
      "cell_type": "code",
      "execution_count": 10,
      "metadata": {
        "colab": {
          "base_uri": "https://localhost:8080/"
        },
        "id": "wxHrcfZF51wD",
        "outputId": "daf42932-2375-41e2-f28f-d5aa7ac17f1a"
      },
      "outputs": [
        {
          "output_type": "stream",
          "name": "stdout",
          "text": [
            "Nom : tobjya\n",
            "Prénom : alae\n",
            "Âge : 5\n",
            "Nom apres modification : bennani\n",
            "Prénom apres modification : aya\n",
            "Âge apres modification : 25\n"
          ]
        }
      ],
      "source": [
        "class Personne:\n",
        "    def __init__(self, nom, prenom, age):\n",
        "        self.__nom = nom  # Attribut privé\n",
        "        self.__prenom = prenom  # Attribut privé\n",
        "        self.__age = age  # Attribut privé\n",
        "\n",
        "    # Méthode publique pour obtenir le nom       # Méthode pour obtenir une variable pprivée\n",
        "    def get_nom(self):\n",
        "        return self.__nom                        # def nom(self):\n",
        "                                                 # return self.__nom\n",
        "    # Méthode publique pour modifier le nom\n",
        "    def set_nom(self, nom):                     #@nom.setter\n",
        "        if isinstance(nom, str) and nom:        # def nom(self,nom):\n",
        "            self.__nom = nom                    # {....la meme description}\n",
        "        else:\n",
        "            raise ValueError(\"Le nom doit être une chaîne de caractères non vide.\")\n",
        "\n",
        "    #une methode pour acceder aux variables privees appellee mangling: P._Personne__nom\n",
        "\n",
        "    # Méthode publique pour obtenir le prénom\n",
        "    def get_prenom(self):\n",
        "        return self.__prenom\n",
        "\n",
        "    # Méthode publique pour modifier le prénom\n",
        "    def set_prenom(self, prenom):\n",
        "        if isinstance(prenom, str) and prenom:\n",
        "            self.__prenom = prenom\n",
        "        else:\n",
        "            raise ValueError(\"Le prénom doit être une chaîne de caractères non vide.\")\n",
        "\n",
        "    # Méthode publique pour obtenir l'âge\n",
        "    def get_age(self):\n",
        "        return self.__age\n",
        "\n",
        "    # Méthode publique pour modifier l'âge\n",
        "    def set_age(self, age):\n",
        "        if isinstance(age, int) and age > 0:\n",
        "            self.__age = age\n",
        "        else:\n",
        "            raise ValueError(\"L'âge doit être un entier positif.\")\n",
        "\n",
        "# Exemple d'utilisation\n",
        "p = Personne(\"tobjya\", \"alae\", 5)\n",
        "\n",
        "# Obtention des informations\n",
        "print(f\"Nom : {p.get_nom()}\")\n",
        "print(f\"Prénom : {p.get_prenom()}\")\n",
        "print(f\"Âge : {p.get_age()}\")\n",
        "\n",
        "\n",
        "# Modification des informations\n",
        "p.set_nom(\"bennani\")\n",
        "p.set_prenom(\"aya\")\n",
        "p.set_age(25)\n",
        "\n",
        "# Accès aux propriétés\n",
        "# print(p.nom)\n",
        "# print(p.prenom)\n",
        "# print(p.age)\n",
        "\n",
        "# Modification des propriétés\n",
        "# p.nom = \"marir\"\n",
        "# p.prenom = \"sana\"\n",
        "# p.age = 22\n",
        "\n",
        "\n",
        "# Obtention des informations mises à jour\n",
        "print(f\"Nom apres modification : {p.get_nom()}\")\n",
        "print(f\"Prénom apres modification : {p.get_prenom()}\")\n",
        "print(f\"Âge apres modification : {p.get_age()}\")\n"
      ]
    }
  ]
}