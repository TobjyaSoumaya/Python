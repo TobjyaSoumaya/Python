{
  "nbformat": 4,
  "nbformat_minor": 0,
  "metadata": {
    "colab": {
      "provenance": []
    },
    "kernelspec": {
      "name": "python3",
      "display_name": "Python 3"
    },
    "language_info": {
      "name": "python"
    }
  },
  "cells": [
    {
      "cell_type": "code",
      "execution_count": 11,
      "metadata": {
        "colab": {
          "base_uri": "https://localhost:8080/"
        },
        "id": "wxHrcfZF51wD",
        "outputId": "1edb7a0b-1c01-40fa-9519-168cd3a11841"
      },
      "outputs": [
        {
          "output_type": "stream",
          "name": "stdout",
          "text": [
            "Surface de la forme : 28.27\n",
            "Surface de la forme : 20.00\n",
            "Surface de la forme : 153.94\n",
            "Surface de la forme : 12.00\n"
          ]
        }
      ],
      "source": [
        "from abc import ABC, abstractmethod\n",
        "import math\n",
        "\n",
        "# Classe de base abstraite \"Forme\"\n",
        "class Forme(ABC):\n",
        "    @abstractmethod\n",
        "    def calculer_surface(self):\n",
        "        pass\n",
        "\n",
        "# Sous-classe \"Cercle\"\n",
        "class Cercle(Forme):\n",
        "    def __init__(self, rayon):\n",
        "        self.rayon = rayon\n",
        "\n",
        "    def calculer_surface(self):\n",
        "        return math.pi * self.rayon ** 2\n",
        "\n",
        "# Sous-classe \"Rectangle\"\n",
        "class Rectangle(Forme):\n",
        "    def __init__(self, largeur, hauteur):\n",
        "        self.largeur = largeur\n",
        "        self.hauteur = hauteur\n",
        "\n",
        "    def calculer_surface(self):\n",
        "        return self.largeur * self.hauteur\n",
        "\n",
        "# Fonction utilisant le polymorphisme\n",
        "def afficher_surface(formes):\n",
        "    for forme in formes:\n",
        "        print(f\"Surface de la forme : {forme.calculer_surface():.2f}\")\n",
        "\n",
        "# Exemple d'utilisation\n",
        "formes = [Cercle(3),Rectangle(4, 5),Cercle(7),Rectangle(2, 6)]\n",
        "\n",
        "# Appeler la fonction pour afficher les surfaces\n",
        "afficher_surface(formes)\n"
      ]
    }
  ]
}