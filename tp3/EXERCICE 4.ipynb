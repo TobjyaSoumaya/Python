{
  "nbformat": 4,
  "nbformat_minor": 0,
  "metadata": {
    "colab": {
      "provenance": []
    },
    "kernelspec": {
      "name": "python3",
      "display_name": "Python 3"
    },
    "language_info": {
      "name": "python"
    }
  },
  "cells": [
    {
      "cell_type": "code",
      "execution_count": 12,
      "metadata": {
        "colab": {
          "base_uri": "https://localhost:8080/"
        },
        "id": "wxHrcfZF51wD",
        "outputId": "4303b078-a3b2-4674-9ce2-c36bdfa10002"
      },
      "outputs": [
        {
          "output_type": "stream",
          "name": "stdout",
          "text": [
            "Nom : Ordinateur\n",
            "Prix : 1500\n",
            "Prix avec remise : 1350.0\n"
          ]
        }
      ],
      "source": [
        "class Produit:\n",
        "    def __init__(self, nom, prix):\n",
        "        self.__nom = nom\n",
        "        self.__prix = prix\n",
        "\n",
        "    # Getter pour le nom\n",
        "    def get_nom(self):\n",
        "        return self.__nom\n",
        "\n",
        "    # Setter pour le nom avec validation\n",
        "    def set_nom(self, nom):\n",
        "        if isinstance(nom, str) and nom:\n",
        "            self.__nom = nom\n",
        "        else:\n",
        "            raise ValueError(\"Le nom doit être une chaîne de caractères non vide.\")\n",
        "\n",
        "    # Getter pour le prix\n",
        "    def get_prix(self):\n",
        "        return self.__prix\n",
        "\n",
        "    # Setter pour le prix avec validation\n",
        "    def set_prix(self, prix):\n",
        "        if isinstance(prix, (int, float)) and prix >= 0:\n",
        "            self.__prix = prix\n",
        "        else:\n",
        "            raise ValueError(\"Le prix doit être un nombre positif ou nul.\")\n",
        "\n",
        "    # Méthode pour calculer le prix avec remise\n",
        "    def calculer_prix_avec_remise(self, remise, seuil):\n",
        "\n",
        "        if not (0 <= remise <= 100):\n",
        "            raise ValueError(\"La remise doit être un pourcentage entre 0 et 100.\")\n",
        "\n",
        "        if self.__prix > seuil:\n",
        "            prix_final = self.__prix * (1 - remise / 100)\n",
        "        else:\n",
        "            prix_final = self.__prix\n",
        "\n",
        "        return round(prix_final, 2)  # Arrondir le prix final à deux décimales\n",
        "\n",
        "# Créer un produit\n",
        "produit = Produit(\"Ordinateur\", 1500)\n",
        "\n",
        "# Afficher les détails\n",
        "print(\"Nom :\", produit.get_nom())\n",
        "print(\"Prix :\", produit.get_prix())\n",
        "\n",
        "# Calculer le prix avec remise\n",
        "prix_remise = produit.calculer_prix_avec_remise(remise=10, seuil=1000)\n",
        "print(\"Prix avec remise :\", prix_remise)\n"
      ]
    }
  ]
}