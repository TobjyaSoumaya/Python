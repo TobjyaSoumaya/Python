{
  "nbformat": 4,
  "nbformat_minor": 0,
  "metadata": {
    "colab": {
      "provenance": []
    },
    "kernelspec": {
      "name": "python3",
      "display_name": "Python 3"
    },
    "language_info": {
      "name": "python"
    }
  },
  "cells": [
    {
      "cell_type": "code",
      "execution_count": 14,
      "metadata": {
        "colab": {
          "base_uri": "https://localhost:8080/"
        },
        "id": "wxHrcfZF51wD",
        "outputId": "dca5fb1e-c6c1-4b81-9f54-2ba16164228f"
      },
      "outputs": [
        {
          "output_type": "stream",
          "name": "stdout",
          "text": [
            "Total du panier : 450\n"
          ]
        }
      ],
      "source": [
        "# Classe Produit\n",
        "class Produit:\n",
        "    def __init__(self, nom, prix):\n",
        "        self.__nom = nom  # Attribut privé pour le nom\n",
        "        self.__prix = prix  # Attribut privé pour le prix\n",
        "\n",
        "    # Getter pour le nom\n",
        "    def get_nom(self):\n",
        "        return self.__nom\n",
        "\n",
        "    # Getter pour le prix\n",
        "    def get_prix(self):\n",
        "        return self.__prix\n",
        "\n",
        "    # Méthode pour calculer le prix avec une remise\n",
        "    def prix_avec_remise(self, remise):\n",
        "        if self.__prix > 100:  # Remise appliquée seulement si le prix est supérieur à 100\n",
        "            return self.__prix * (1 - remise / 100)\n",
        "        return self.__prix\n",
        "\n",
        "\n",
        "# Classe Commande\n",
        "class Commande:\n",
        "    def __init__(self, produit, quantite):\n",
        "        self.produit = produit  # Produit est une instance de la classe Produit\n",
        "        self.quantite = quantite  # Quantité commandée\n",
        "\n",
        "    # Méthode pour calculer le total de cette commande\n",
        "    def calculer_total(self):\n",
        "        return self.produit.get_prix() * self.quantite\n",
        "\n",
        "\n",
        "# Classe Panier\n",
        "class Panier:\n",
        "    def __init__(self):\n",
        "        self.commandes = []  # Liste des commandes dans le panier\n",
        "\n",
        "    # Méthode pour ajouter une commande au panier\n",
        "    def ajouter_commande(self, commande):\n",
        "        self.commandes.append(commande)\n",
        "\n",
        "    # Méthode pour calculer le total du panier\n",
        "    def calculer_total_panier(self):\n",
        "        total = 0\n",
        "        for commande in self.commandes:\n",
        "            total += commande.calculer_total()  # Somme des totaux de chaque commande\n",
        "        return total\n",
        "\n",
        "# Création de produits\n",
        "produit1 = Produit(\"Téléphone\", 150)\n",
        "produit2 = Produit(\"Casque\", 50)\n",
        "\n",
        "# Création de commandes\n",
        "commande1 = Commande(produit1, 2)\n",
        "commande2 = Commande(produit2, 3)\n",
        "\n",
        "# Création du panier et ajout des commandes\n",
        "panier = Panier()\n",
        "panier.ajouter_commande(commande1)\n",
        "panier.ajouter_commande(commande2)\n",
        "\n",
        "# Affichage du total du panier\n",
        "print(\"Total du panier :\", panier.calculer_total_panier())\n",
        "\n"
      ]
    }
  ]
}