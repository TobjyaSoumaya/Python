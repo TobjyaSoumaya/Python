{
  "nbformat": 4,
  "nbformat_minor": 0,
  "metadata": {
    "colab": {
      "provenance": []
    },
    "kernelspec": {
      "name": "python3",
      "display_name": "Python 3"
    },
    "language_info": {
      "name": "python"
    }
  },
  "cells": [
    {
      "cell_type": "code",
      "execution_count": 13,
      "metadata": {
        "colab": {
          "base_uri": "https://localhost:8080/"
        },
        "id": "wxHrcfZF51wD",
        "outputId": "1492118b-181a-48fa-e192-9752ca2995d3"
      },
      "outputs": [
        {
          "output_type": "stream",
          "name": "stdout",
          "text": [
            "Nom: Taylor, Prénom: Alice, Salaire: 5000.00\n",
            "Employés supervisés :\n",
            " - Nom: Doe, Prénom: John, Salaire: 3000.00\n",
            " - Nom: Smith, Prénom: Anna, Salaire: 3500.00\n",
            " - Nom: Brown, Prénom: Michael, Salaire: 3200.00\n"
          ]
        }
      ],
      "source": [
        "class Employe:\n",
        "    def __init__(self, nom, prenom, salaire):\n",
        "        self.nom = nom\n",
        "        self.prenom = prenom\n",
        "        self.salaire = salaire\n",
        "\n",
        "    def afficher_details(self):\n",
        "        return f\"Nom: {self.nom}, Prénom: {self.prenom}, Salaire: {self.salaire:.2f}\"\n",
        "\n",
        "\n",
        "class Manager(Employe):\n",
        "    def __init__(self, nom, prenom, salaire):\n",
        "        super().__init__(nom, prenom, salaire)\n",
        "        self.employes = []  # Liste pour stocker les employés supervisés\n",
        "\n",
        "    def ajouter_employe(self, employe):\n",
        "        self.employes.append(employe)\n",
        "\n",
        "\n",
        "    def afficher_employes(self):\n",
        "        if self.employes:\n",
        "            print(\"Employés supervisés :\")\n",
        "            for emp in self.employes:\n",
        "                print(f\" - {emp.afficher_details()}\")\n",
        "        else:\n",
        "            print(\"Aucun employé supervisé.\")\n",
        "\n",
        "\n",
        "# Exemple d'utilisation\n",
        "# Création d'employés\n",
        "employe1 = Employe(\"Doe\", \"John\", 3000)\n",
        "employe2 = Employe(\"Smith\", \"Anna\", 3500)\n",
        "employe3 = Employe(\"Brown\", \"Michael\", 3200)\n",
        "\n",
        "# Création d'un manager\n",
        "manager = Manager(\"Taylor\", \"Alice\", 5000)\n",
        "\n",
        "# Ajouter des employés sous la supervision du manager\n",
        "manager.ajouter_employe(employe1)\n",
        "manager.ajouter_employe(employe2)\n",
        "manager.ajouter_employe(employe3)\n",
        "\n",
        "# Afficher les détails du manager\n",
        "print(manager.afficher_details())\n",
        "\n",
        "# Afficher la liste des employés supervisés\n",
        "manager.afficher_employes()\n"
      ]
    }
  ]
}