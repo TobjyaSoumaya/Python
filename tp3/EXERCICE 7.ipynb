{
  "nbformat": 4,
  "nbformat_minor": 0,
  "metadata": {
    "colab": {
      "provenance": []
    },
    "kernelspec": {
      "name": "python3",
      "display_name": "Python 3"
    },
    "language_info": {
      "name": "python"
    }
  },
  "cells": [
    {
      "cell_type": "code",
      "execution_count": 15,
      "metadata": {
        "colab": {
          "base_uri": "https://localhost:8080/"
        },
        "id": "wxHrcfZF51wD",
        "outputId": "d3f45c32-4fa9-4953-e444-81b19d775cdb"
      },
      "outputs": [
        {
          "output_type": "stream",
          "name": "stdout",
          "text": [
            "La voiture roule sur la route.\n",
            "La bicyclette roule sur la piste cyclable ou la route.\n"
          ]
        }
      ],
      "source": [
        "from abc import ABC, abstractmethod\n",
        "\n",
        "# Classe abstraite Vehicule\n",
        "class Vehicule(ABC):\n",
        "    @abstractmethod\n",
        "    def deplacer(self):\n",
        "        \"\"\"Méthode abstraite pour définir comment le véhicule se déplace.\"\"\"\n",
        "        pass\n",
        "\n",
        "# Sous-classe Voiture\n",
        "class Voiture(Vehicule):\n",
        "    def deplacer(self):\n",
        "        return \"La voiture roule sur la route.\"\n",
        "\n",
        "# Sous-classe Bicyclette\n",
        "class Bicyclette(Vehicule):\n",
        "    def deplacer(self):\n",
        "        return \"La bicyclette roule sur la piste cyclable ou la route.\"\n",
        "\n",
        "# Instanciation et utilisation\n",
        "voiture = Voiture()\n",
        "bicyclette = Bicyclette()\n",
        "\n",
        "# Affichage des déplacements\n",
        "print(voiture.deplacer())\n",
        "print(bicyclette.deplacer())"
      ]
    }
  ]
}