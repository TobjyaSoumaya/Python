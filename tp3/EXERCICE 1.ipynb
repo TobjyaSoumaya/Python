{
  "nbformat": 4,
  "nbformat_minor": 0,
  "metadata": {
    "colab": {
      "provenance": []
    },
    "kernelspec": {
      "name": "python3",
      "display_name": "Python 3"
    },
    "language_info": {
      "name": "python"
    }
  },
  "cells": [
    {
      "cell_type": "code",
      "execution_count": 9,
      "metadata": {
        "colab": {
          "base_uri": "https://localhost:8080/"
        },
        "id": "wxHrcfZF51wD",
        "outputId": "34815469-346e-480e-ec85-26b1125aa33d"
      },
      "outputs": [
        {
          "output_type": "stream",
          "name": "stdout",
          "text": [
            "Surface du cercle : 78.54\n",
            "Surface du rectangle : 28.00\n"
          ]
        }
      ],
      "source": [
        "from abc import ABC, abstractmethod\n",
        "import math\n",
        "\n",
        "# Classe de base abstraite \"Forme\"\n",
        "class Forme(ABC):\n",
        "    @abstractmethod\n",
        "    def calculer_surface(self):\n",
        "        pass\n",
        "\n",
        "# Sous-classe \"Cercle\"\n",
        "class Cercle(Forme):\n",
        "    def __init__(self, rayon):\n",
        "        self.rayon = rayon\n",
        "\n",
        "    def calculer_surface(self):\n",
        "        return math.pi * (self.rayon ** 2)\n",
        "\n",
        "# Sous-classe \"Rectangle\"\n",
        "class Rectangle(Forme):\n",
        "    def __init__(self, largeur, hauteur):\n",
        "        self.largeur = largeur\n",
        "        self.hauteur = hauteur\n",
        "\n",
        "    def calculer_surface(self):\n",
        "        return self.largeur * self.hauteur\n",
        "\n",
        "# Exemple d'utilisation\n",
        "\n",
        "cercle = Cercle(5)\n",
        "rectangle = Rectangle(4, 7)\n",
        "\n",
        "print(f\"Surface du cercle : {cercle.calculer_surface():.2f}\")\n",
        "print(f\"Surface du rectangle : {rectangle.calculer_surface():.2f}\")\n",
        "\n"
      ]
    }
  ]
}