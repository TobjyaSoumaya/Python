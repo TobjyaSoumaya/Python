{
  "nbformat": 4,
  "nbformat_minor": 0,
  "metadata": {
    "colab": {
      "provenance": []
    },
    "kernelspec": {
      "name": "python3",
      "display_name": "Python 3"
    },
    "language_info": {
      "name": "python"
    }
  },
  "cells": [
    {
      "cell_type": "markdown",
      "source": [
        "**EXERCICE 10**"
      ],
      "metadata": {
        "id": "TopMVpjmLUjM"
      }
    },
    {
      "cell_type": "code",
      "execution_count": 1,
      "metadata": {
        "colab": {
          "base_uri": "https://localhost:8080/",
          "height": 373
        },
        "id": "LjcOiVAFLIpf",
        "outputId": "03da0818-61d5-426c-8408-bf387f1fa026"
      },
      "outputs": [
        {
          "output_type": "error",
          "ename": "KeyboardInterrupt",
          "evalue": "Interrupted by user",
          "traceback": [
            "\u001b[0;31m---------------------------------------------------------------------------\u001b[0m",
            "\u001b[0;31mKeyboardInterrupt\u001b[0m                         Traceback (most recent call last)",
            "\u001b[0;32m<ipython-input-1-0253f128ca99>\u001b[0m in \u001b[0;36m<cell line: 0>\u001b[0;34m()\u001b[0m\n\u001b[1;32m      2\u001b[0m \u001b[0mphrases\u001b[0m \u001b[0;34m=\u001b[0m \u001b[0;34m[\u001b[0m\u001b[0;34m]\u001b[0m\u001b[0;34m\u001b[0m\u001b[0;34m\u001b[0m\u001b[0m\n\u001b[1;32m      3\u001b[0m \u001b[0;32mfor\u001b[0m \u001b[0mi\u001b[0m \u001b[0;32min\u001b[0m \u001b[0mrange\u001b[0m\u001b[0;34m(\u001b[0m\u001b[0;36m1\u001b[0m\u001b[0;34m,\u001b[0m \u001b[0;36m4\u001b[0m\u001b[0;34m)\u001b[0m\u001b[0;34m:\u001b[0m\u001b[0;34m\u001b[0m\u001b[0;34m\u001b[0m\u001b[0m\n\u001b[0;32m----> 4\u001b[0;31m     \u001b[0mphrase\u001b[0m \u001b[0;34m=\u001b[0m \u001b[0minput\u001b[0m\u001b[0;34m(\u001b[0m\u001b[0;34mf\"Entrez la phrase {i} : \"\u001b[0m\u001b[0;34m)\u001b[0m\u001b[0;34m\u001b[0m\u001b[0;34m\u001b[0m\u001b[0m\n\u001b[0m\u001b[1;32m      5\u001b[0m     \u001b[0mphrases\u001b[0m\u001b[0;34m.\u001b[0m\u001b[0mappend\u001b[0m\u001b[0;34m(\u001b[0m\u001b[0mphrase\u001b[0m\u001b[0;34m)\u001b[0m\u001b[0;34m\u001b[0m\u001b[0;34m\u001b[0m\u001b[0m\n\u001b[1;32m      6\u001b[0m \u001b[0;34m\u001b[0m\u001b[0m\n",
            "\u001b[0;32m/usr/local/lib/python3.11/dist-packages/ipykernel/kernelbase.py\u001b[0m in \u001b[0;36mraw_input\u001b[0;34m(self, prompt)\u001b[0m\n\u001b[1;32m    849\u001b[0m                 \u001b[0;34m\"raw_input was called, but this frontend does not support input requests.\"\u001b[0m\u001b[0;34m\u001b[0m\u001b[0;34m\u001b[0m\u001b[0m\n\u001b[1;32m    850\u001b[0m             )\n\u001b[0;32m--> 851\u001b[0;31m         return self._input_request(str(prompt),\n\u001b[0m\u001b[1;32m    852\u001b[0m             \u001b[0mself\u001b[0m\u001b[0;34m.\u001b[0m\u001b[0m_parent_ident\u001b[0m\u001b[0;34m,\u001b[0m\u001b[0;34m\u001b[0m\u001b[0;34m\u001b[0m\u001b[0m\n\u001b[1;32m    853\u001b[0m             \u001b[0mself\u001b[0m\u001b[0;34m.\u001b[0m\u001b[0m_parent_header\u001b[0m\u001b[0;34m,\u001b[0m\u001b[0;34m\u001b[0m\u001b[0;34m\u001b[0m\u001b[0m\n",
            "\u001b[0;32m/usr/local/lib/python3.11/dist-packages/ipykernel/kernelbase.py\u001b[0m in \u001b[0;36m_input_request\u001b[0;34m(self, prompt, ident, parent, password)\u001b[0m\n\u001b[1;32m    893\u001b[0m             \u001b[0;32mexcept\u001b[0m \u001b[0mKeyboardInterrupt\u001b[0m\u001b[0;34m:\u001b[0m\u001b[0;34m\u001b[0m\u001b[0;34m\u001b[0m\u001b[0m\n\u001b[1;32m    894\u001b[0m                 \u001b[0;31m# re-raise KeyboardInterrupt, to truncate traceback\u001b[0m\u001b[0;34m\u001b[0m\u001b[0;34m\u001b[0m\u001b[0m\n\u001b[0;32m--> 895\u001b[0;31m                 \u001b[0;32mraise\u001b[0m \u001b[0mKeyboardInterrupt\u001b[0m\u001b[0;34m(\u001b[0m\u001b[0;34m\"Interrupted by user\"\u001b[0m\u001b[0;34m)\u001b[0m \u001b[0;32mfrom\u001b[0m \u001b[0;32mNone\u001b[0m\u001b[0;34m\u001b[0m\u001b[0;34m\u001b[0m\u001b[0m\n\u001b[0m\u001b[1;32m    896\u001b[0m             \u001b[0;32mexcept\u001b[0m \u001b[0mException\u001b[0m \u001b[0;32mas\u001b[0m \u001b[0me\u001b[0m\u001b[0;34m:\u001b[0m\u001b[0;34m\u001b[0m\u001b[0;34m\u001b[0m\u001b[0m\n\u001b[1;32m    897\u001b[0m                 \u001b[0mself\u001b[0m\u001b[0;34m.\u001b[0m\u001b[0mlog\u001b[0m\u001b[0;34m.\u001b[0m\u001b[0mwarning\u001b[0m\u001b[0;34m(\u001b[0m\u001b[0;34m\"Invalid Message:\"\u001b[0m\u001b[0;34m,\u001b[0m \u001b[0mexc_info\u001b[0m\u001b[0;34m=\u001b[0m\u001b[0;32mTrue\u001b[0m\u001b[0;34m)\u001b[0m\u001b[0;34m\u001b[0m\u001b[0;34m\u001b[0m\u001b[0m\n",
            "\u001b[0;31mKeyboardInterrupt\u001b[0m: Interrupted by user"
          ]
        }
      ],
      "source": [
        "import csv\n",
        "import os\n",
        "\n",
        "FICHIER_CONTACTS = \"contacts.csv\"\n",
        "\n",
        "# Initialiser le fichier CSV si nécessaire\n",
        "def initialiser_fichier():\n",
        "    if not os.path.exists(FICHIER_CONTACTS):\n",
        "        with open(FICHIER_CONTACTS, \"w\", newline=\"\") as file:\n",
        "            writer = csv.writer(file)\n",
        "            writer.writerow([\"Nom\", \"Âge\", \"Ville\"])  # En-têtes du fichier\n",
        "\n",
        "# Ajouter un contact\n",
        "def ajouter_contact():\n",
        "    nom = input(\"Entrez le nom du contact : \").strip()\n",
        "    age = input(\"Entrez l'âge du contact : \").strip()\n",
        "    ville = input(\"Entrez la ville du contact : \").strip()\n",
        "\n",
        "    with open(FICHIER_CONTACTS, \"a\", newline=\"\") as file:\n",
        "        writer = csv.writer(file)\n",
        "        writer.writerow([nom, age, ville])\n",
        "    print(\"Contact ajouté avec succès !\")\n",
        "\n",
        "# Afficher tous les contacts\n",
        "def afficher_contacts():\n",
        "    with open(FICHIER_CONTACTS, \"r\") as file:\n",
        "        reader = csv.reader(file)\n",
        "        contacts = list(reader)\n",
        "        if len(contacts) <= 1:\n",
        "            print(\"Aucun contact trouvé.\")\n",
        "            return\n",
        "        print(f\"{'Nom':<15}{'Âge':<10}{'Ville':<15}\")\n",
        "        print(\"-\" * 40)\n",
        "        for contact in contacts[1:]:  # Ignorer les en-têtes\n",
        "            print(f\"{contact[0]:<15}{contact[1]:<10}{contact[2]:<15}\")\n",
        "\n",
        "# Rechercher un contact par nom\n",
        "def rechercher_contact():\n",
        "    nom_recherche = input(\"Entrez le nom du contact à rechercher : \").strip()\n",
        "    with open(FICHIER_CONTACTS, \"r\") as file:\n",
        "        reader = csv.reader(file)\n",
        "        contacts = list(reader)\n",
        "        for contact in contacts[1:]:  # Ignorer les en-têtes\n",
        "            if contact[0].lower() == nom_recherche.lower():\n",
        "                print(f\"Contact trouvé : Nom: {contact[0]}, Âge: {contact[1]}, Ville: {contact[2]}\")\n",
        "                return\n",
        "    print(\"Aucun contact trouvé avec ce nom.\")\n",
        "\n",
        "# Supprimer un contact\n",
        "def supprimer_contact():\n",
        "    nom_supprimer = input(\"Entrez le nom du contact à supprimer : \").strip()\n",
        "    with open(FICHIER_CONTACTS, \"r\") as file:\n",
        "        reader = csv.reader(file)\n",
        "        contacts = list(reader)\n",
        "\n",
        "    contacts_modifies = [contacts[0]]  # Conserver les en-têtes\n",
        "    supprime = False\n",
        "    for contact in contacts[1:]:\n",
        "        if contact[0].lower() != nom_supprimer.lower():\n",
        "            contacts_modifies.append(contact)\n",
        "        else:\n",
        "            supprime = True\n",
        "\n",
        "    if supprime:\n",
        "        with open(FICHIER_CONTACTS, \"w\", newline=\"\") as file:\n",
        "            writer = csv.writer(file)\n",
        "            writer.writerows(contacts_modifies)\n",
        "        print(\"Contact supprimé avec succès.\")\n",
        "    else:\n",
        "        print(\"Aucun contact trouvé avec ce nom.\")\n",
        "\n",
        "# Menu principal\n",
        "def menu():\n",
        "    initialiser_fichier()\n",
        "    while True:\n",
        "        print(\"\\n--- Gestionnaire de Contacts ---\")\n",
        "        print(\"1. Ajouter un contact\")\n",
        "        print(\"2. Afficher tous les contacts\")\n",
        "        print(\"3. Rechercher un contact\")\n",
        "        print(\"4. Supprimer un contact\")\n",
        "        print(\"5. Quitter\")\n",
        "\n",
        "        choix = input(\"Entrez votre choix : \").strip()\n",
        "        if choix == \"1\":\n",
        "            ajouter_contact()\n",
        "        elif choix == \"2\":\n",
        "            afficher_contacts()\n",
        "        elif choix == \"3\":\n",
        "            rechercher_contact()\n",
        "        elif choix == \"4\":\n",
        "            supprimer_contact()\n",
        "        elif choix == \"5\":\n",
        "            print(\"Merci d'avoir utilisé le Gestionnaire de Contacts. À bientôt !\")\n",
        "            break\n",
        "        else:\n",
        "            print(\"Choix invalide. Veuillez réessayer.\")\n",
        "\n",
        "# Lancer le menu principal\n",
        "menu()\n"
      ]
    }
  ]
}