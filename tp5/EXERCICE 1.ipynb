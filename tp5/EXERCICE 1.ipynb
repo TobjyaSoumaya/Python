{
  "nbformat": 4,
  "nbformat_minor": 0,
  "metadata": {
    "colab": {
      "provenance": []
    },
    "kernelspec": {
      "name": "python3",
      "display_name": "Python 3"
    },
    "language_info": {
      "name": "python"
    }
  },
  "cells": [
    {
      "cell_type": "markdown",
      "source": [
        "**EXERCICE 1**"
      ],
      "metadata": {
        "id": "TopMVpjmLUjM"
      }
    },
    {
      "cell_type": "code",
      "execution_count": null,
      "metadata": {
        "id": "LjcOiVAFLIpf"
      },
      "outputs": [],
      "source": [
        "# Ouvrir et lire le fichier\n",
        "file = open(\"exemple.txt\", 'r')\n",
        "\n",
        "with open('exemple.txt', 'r') as file:\n",
        "    lines = file.readlines()\n",
        "\n",
        "# Afficher chaque ligne avec son numéro\n",
        "for i, line in enumerate(lines, start=1):\n",
        "    print(f\"{i}: {line.strip()}\")\n",
        "\n"
      ]
    }
  ]
}