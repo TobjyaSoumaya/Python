{
  "nbformat": 4,
  "nbformat_minor": 0,
  "metadata": {
    "colab": {
      "provenance": []
    },
    "kernelspec": {
      "name": "python3",
      "display_name": "Python 3"
    },
    "language_info": {
      "name": "python"
    }
  },
  "cells": [
    {
      "cell_type": "markdown",
      "source": [
        "# **EXERCICE 1**"
      ],
      "metadata": {
        "id": "Y00qGJTwA5kd"
      }
    },
    {
      "cell_type": "code",
      "execution_count": null,
      "metadata": {
        "colab": {
          "base_uri": "https://localhost:8080/"
        },
        "id": "Ytln37yg_Wyd",
        "outputId": "369d88ff-3009-421d-ea4f-515b958fc183"
      },
      "outputs": [
        {
          "output_type": "stream",
          "name": "stdout",
          "text": [
            "10\n",
            "0\n",
            "0\n",
            "0\n"
          ]
        }
      ],
      "source": [
        "def somme_liste(liste):\n",
        "\n",
        "    return sum(liste)\n",
        "\n",
        "# Tests\n",
        "print(somme_liste([1, 2, 3, 4]))\n",
        "print(somme_liste([-1, 5, 3, -7]))\n",
        "print(somme_liste([0]))\n",
        "print(somme_liste([]))\n"
      ]
    },
    {
      "cell_type": "markdown",
      "source": [
        "# **EXERCICE 2**"
      ],
      "metadata": {
        "id": "76t9iaWcBnTM"
      }
    },
    {
      "cell_type": "code",
      "source": [
        "def max_tuple(t):\n",
        "\n",
        "    return max(t)\n",
        "\n",
        "# Tests\n",
        "print(max_tuple((1, 5, 3)))\n",
        "print(max_tuple((-10, -5, -3, -7)))\n",
        "print(max_tuple((0,)))\n",
        "print(max_tuple((1.5, 2.3, 0.7)))\n"
      ],
      "metadata": {
        "colab": {
          "base_uri": "https://localhost:8080/"
        },
        "id": "XXpJ6raJBoCc",
        "outputId": "46d7b30c-fab5-43a5-8cd6-c5be7a83ed35"
      },
      "execution_count": null,
      "outputs": [
        {
          "output_type": "stream",
          "name": "stdout",
          "text": [
            "5\n",
            "-3\n",
            "0\n",
            "2.3\n"
          ]
        }
      ]
    },
    {
      "cell_type": "markdown",
      "source": [
        "# **EXERCICE 3**"
      ],
      "metadata": {
        "id": "t37YOI_hCEdK"
      }
    },
    {
      "cell_type": "code",
      "source": [
        "def intersection(ensemble1, ensemble2):\n",
        "\n",
        "    return ensemble1.intersection(ensemble2)\n",
        "\n",
        "# Tests\n",
        "print(intersection({1, 2, 3}, {2, 3, 4}))\n",
        "print(intersection({\"a\", \"b\", \"c\"}, {\"c\", \"d\", \"e\"}))\n",
        "print(intersection({1, 2}, {3, 4}))\n",
        "print(intersection(set(), {1, 2, 3}))\n"
      ],
      "metadata": {
        "colab": {
          "base_uri": "https://localhost:8080/"
        },
        "id": "-u04TgIXCFS9",
        "outputId": "9b31999a-9de4-4b82-97e7-edb180ef0960"
      },
      "execution_count": null,
      "outputs": [
        {
          "output_type": "stream",
          "name": "stdout",
          "text": [
            "{2, 3}\n",
            "{'c'}\n",
            "set()\n",
            "set()\n"
          ]
        }
      ]
    },
    {
      "cell_type": "markdown",
      "source": [
        "# **EXERCICE 4**"
      ],
      "metadata": {
        "id": "CwLSwSziC3YU"
      }
    },
    {
      "cell_type": "code",
      "source": [
        "def compte_occurences(liste):\n",
        "\n",
        "    occurences = {}   #En Python, {} est la syntaxe pour créer un dictionnaire vide.\n",
        "  #_______ Un dictionnaire permet d'associer chaque mot (clé) à son nombre d'occurrences (valeur).\n",
        "    for mot in liste:\n",
        "        if mot in occurences:\n",
        "            occurences[mot] += 1\n",
        "        else:\n",
        "            occurences[mot] = 1\n",
        "    return occurences\n",
        "\n",
        "# Tests\n",
        "print(compte_occurences([\"apple\", \"banana\", \"apple\", \"orange\", \"banana\", \"apple\"]))\n",
        "\n",
        "print(compte_occurences([\"chat\", \"chien\", \"chat\", \"oiseau\"]))\n",
        "\n",
        "print(compte_occurences([]))\n",
        "\n",
        "print(compte_occurences([\"unique\"]))\n"
      ],
      "metadata": {
        "colab": {
          "base_uri": "https://localhost:8080/"
        },
        "id": "ySPKczl2C67B",
        "outputId": "743c2fc9-259d-408a-e15a-cb4df4756e66"
      },
      "execution_count": null,
      "outputs": [
        {
          "output_type": "stream",
          "name": "stdout",
          "text": [
            "{'apple': 3, 'banana': 2, 'orange': 1}\n",
            "{'chat': 2, 'chien': 1, 'oiseau': 1}\n",
            "{}\n",
            "{'unique': 1}\n"
          ]
        }
      ]
    },
    {
      "cell_type": "code",
      "source": [
        "def compte_occurences(liste):\n",
        "    return {mot: liste.count(mot) for mot in set(liste)}\n",
        "\n",
        "# Exemple d'utilisation\n",
        "ma_liste = [\"apple\", \"banana\", \"apple\", \"orange\", \"apple\", \"banana\"]\n",
        "resultat = compte_occurences(ma_liste)\n",
        "\n",
        "# Afficher le résultat\n",
        "print(resultat)\n"
      ],
      "metadata": {
        "colab": {
          "base_uri": "https://localhost:8080/"
        },
        "id": "3Lj9VnWUOLoW",
        "outputId": "6e0d3373-8b05-4b98-cbb4-a14d0208cbc3"
      },
      "execution_count": null,
      "outputs": [
        {
          "output_type": "stream",
          "name": "stdout",
          "text": [
            "{'apple': 3, 'orange': 1, 'banana': 2}\n"
          ]
        }
      ]
    },
    {
      "cell_type": "markdown",
      "source": [
        "# **EXERCICE 5**"
      ],
      "metadata": {
        "id": "oru4b1mbE1rg"
      }
    },
    {
      "cell_type": "code",
      "source": [
        "def factorielle(n):\n",
        "\n",
        "    if n < 0:\n",
        "        raise ValueError(\"La factorielle n'est pas définie pour les nombres négatifs.\")\n",
        "        # raise --> arrêter l'exécution normale d'un programme et de signaler qu'une erreur ou un cas spécial s'est produit.\n",
        "    if n == 0 or n == 1:\n",
        "        return 1\n",
        "    return n * factorielle(n - 1)\n",
        "\n",
        "# Tests\n",
        "print(factorielle(5))\n",
        "print(factorielle(0))\n",
        "print(factorielle(1))\n",
        "print(factorielle(7))\n"
      ],
      "metadata": {
        "colab": {
          "base_uri": "https://localhost:8080/"
        },
        "id": "eOpklfI3E5xr",
        "outputId": "0352e307-9290-4517-fa32-216190e5f6d4"
      },
      "execution_count": null,
      "outputs": [
        {
          "output_type": "stream",
          "name": "stdout",
          "text": [
            "120\n",
            "1\n",
            "1\n",
            "5040\n"
          ]
        }
      ]
    },
    {
      "cell_type": "markdown",
      "source": [
        "# **EXERCICE 6**"
      ],
      "metadata": {
        "id": "KBVeWBVBFsBN"
      }
    },
    {
      "cell_type": "code",
      "source": [
        "# Définir la fonction lambda\n",
        "carre = lambda x: x ** 2  #syntaxe --> lambda arguments: expression\n",
        "\n",
        "# Tests\n",
        "print(carre(3))\n",
        "print(carre(0))\n",
        "print(carre(-4))\n",
        "print(carre(1.5))\n"
      ],
      "metadata": {
        "id": "oAYzFrOdFudo"
      },
      "execution_count": null,
      "outputs": []
    },
    {
      "cell_type": "markdown",
      "source": [
        "# **EXERCICE 7**"
      ],
      "metadata": {
        "id": "PTRWYkBLGKbl"
      }
    },
    {
      "cell_type": "code",
      "source": [
        "def salutation(nom, message=\"Bonjour\"):\n",
        "\n",
        "    print(f\"{message}, {nom}!\")\n",
        "\n",
        "# Tests\n",
        "salutation(\"Alice\")\n",
        "salutation(\"Bob\", \"Salut\")\n",
        "salutation(\"Caroline\", \"Bienvenue\")\n",
        "salutation(\"David\")"
      ],
      "metadata": {
        "colab": {
          "base_uri": "https://localhost:8080/"
        },
        "id": "X3mrPqK9GNss",
        "outputId": "0f6e49f6-512c-4207-b968-7a072d43a738"
      },
      "execution_count": null,
      "outputs": [
        {
          "output_type": "stream",
          "name": "stdout",
          "text": [
            "Bonjour, Alice!\n",
            "Salut, Bob!\n",
            "Bienvenue, Caroline!\n",
            "Bonjour, David!\n"
          ]
        }
      ]
    },
    {
      "cell_type": "markdown",
      "source": [
        "# **EXERCICE 8**"
      ],
      "metadata": {
        "id": "N1bOpyDOHLo-"
      }
    },
    {
      "cell_type": "code",
      "source": [
        "def somme_varargs(*args):\n",
        "\n",
        "    return sum(args)\n",
        "\n",
        "# Tests\n",
        "print(somme_varargs(1, 2, 3))\n",
        "print(somme_varargs())\n",
        "print(somme_varargs(100))\n"
      ],
      "metadata": {
        "colab": {
          "base_uri": "https://localhost:8080/"
        },
        "id": "QoA9AujdHOp5",
        "outputId": "7a8d2d4f-d312-45c8-bf01-5cc3764d4fd5"
      },
      "execution_count": 1,
      "outputs": [
        {
          "output_type": "stream",
          "name": "stdout",
          "text": [
            "6\n",
            "0\n",
            "100\n"
          ]
        }
      ]
    },
    {
      "cell_type": "markdown",
      "source": [
        "# **EXERCICE 9**"
      ],
      "metadata": {
        "id": "Mi9fZSomoYeN"
      }
    },
    {
      "cell_type": "code",
      "source": [
        "def analyse_texte(texte):\n",
        "\n",
        "    nombre_mots = len(texte.split())\n",
        "\n",
        "    # Compter les caractères en ignorant les espaces\n",
        "    nombre_caracteres = 0\n",
        "    for c in texte:\n",
        "        if not c.isspace():  # Si le caractère n'est pas un espace\n",
        "            nombre_caracteres += 1\n",
        "\n",
        "    return {\"mots\": nombre_mots, \"caracteres\": nombre_caracteres}\n",
        "\n",
        "# Test\n",
        "texte = \"Bonjour tout le monde !\"\n",
        "resultat = analyse_texte(texte)\n",
        "print(resultat)\n",
        "\n"
      ],
      "metadata": {
        "colab": {
          "base_uri": "https://localhost:8080/"
        },
        "id": "9PQbkcUMoez7",
        "outputId": "0e039200-5339-4136-c5a0-f992b8b72ea1"
      },
      "execution_count": 5,
      "outputs": [
        {
          "output_type": "stream",
          "name": "stdout",
          "text": [
            "{'mots': 5, 'caracteres': 19}\n"
          ]
        }
      ]
    },
    {
      "cell_type": "markdown",
      "source": [
        "# **EXERCICE 10**"
      ],
      "metadata": {
        "id": "dxzxninhquFb"
      }
    },
    {
      "cell_type": "code",
      "source": [
        "def fusionner_dicts(dict1, dict2):\n",
        "\n",
        "    for cle in dict2:  # Parcourir toutes les clés de dict2\n",
        "        if cle in dict1:\n",
        "            dict1[cle] += dict2[cle]  # Additioner les valeurs\n",
        "        else:\n",
        "            dict1[cle] = dict2[cle]  # Ajouter la nouvelle clé avec sa valeur\n",
        "    return dict1\n",
        "\n",
        "# Tests\n",
        "dict1 = {\"a\": 1, \"b\": 2, \"c\": 3}\n",
        "dict2 = {\"b\": 3, \"c\": 4, \"d\": 5}\n",
        "\n",
        "resultat = fusionner_dicts(dict1, dict2)\n",
        "print(resultat)\n"
      ],
      "metadata": {
        "colab": {
          "base_uri": "https://localhost:8080/"
        },
        "id": "EE7vm8_EqtpQ",
        "outputId": "8fcbf73a-6d9c-4f5e-f2b3-dd7556a4c8ff"
      },
      "execution_count": 6,
      "outputs": [
        {
          "output_type": "stream",
          "name": "stdout",
          "text": [
            "{'a': 1, 'b': 5, 'c': 7, 'd': 5}\n"
          ]
        }
      ]
    }
  ]
}