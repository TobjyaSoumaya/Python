{
 "cells": [
  {
   "cell_type": "markdown",
   "metadata": {
    "id": "EvRTFoJzPwrD"
   },
   "source": [
    "# **Exercice 1 : Classe \"Chien\"**"
   ]
  },
  {
   "cell_type": "code",
   "execution_count": null,
   "metadata": {
    "colab": {
     "base_uri": "https://localhost:8080/"
    },
    "id": "JlBEy131PvuP",
    "outputId": "881dc61f-b901-49a3-ce84-2b9fd644905a"
   },
   "outputs": [
    {
     "name": "stdout",
     "output_type": "stream",
     "text": [
      "Woof!\n"
     ]
    }
   ],
   "source": [
    "class Chien:\n",
    "    def __init__(self, nom, race, age):\n",
    "        self.nom = nom\n",
    "        self.race = race\n",
    "        self.age = age\n",
    "\n",
    "    def aboyer(self):\n",
    "        print(\"Woof!\")\n",
    "\n",
    "# Création d'une instance de la classe Chien\n",
    "mon_chien = Chien(\"bob\", \"samoyede\", 5)\n",
    "\n",
    "# Appel de la méthode aboyer\n",
    "mon_chien.aboyer()\n"
   ]
  },
  {
   "cell_type": "markdown",
   "metadata": {
    "id": "DQ36Og_uTSVU"
   },
   "source": [
    "# **EXERCICE 2 : Classe \"Voiture\"**"
   ]
  },
  {
   "cell_type": "code",
   "execution_count": null,
   "metadata": {
    "colab": {
     "base_uri": "https://localhost:8080/"
    },
    "id": "JbXS20d-TSt7",
    "outputId": "c8b720a7-fd0e-4e28-8ea4-22b2346e274e"
   },
   "outputs": [
    {
     "name": "stdout",
     "output_type": "stream",
     "text": [
      "Voiture: Toyota Corolla, Année: 2020\n",
      "Voiture: Renault Clio, Année: 2018\n",
      "Voiture: Tesla Model S, Année: 2022\n"
     ]
    }
   ],
   "source": [
    "class Voiture:\n",
    "    def __init__(self, marque, modele, annee):\n",
    "        self.marque = marque\n",
    "        self.modele = modele\n",
    "        self.annee = annee\n",
    "\n",
    "    def afficher_info(self):\n",
    "        print(f\"Voiture: {self.marque} {self.modele}, Année: {self.annee}\")\n",
    "\n",
    "\n",
    "# Création des instances\n",
    "voiture1 = Voiture(\"Toyota\", \"Corolla\", 2020)\n",
    "voiture2 = Voiture(\"Renault\", \"Clio\", 2018)\n",
    "voiture3 = Voiture(\"Tesla\", \"Model S\", 2022)\n",
    "\n",
    "# Affichage des informations\n",
    "voiture1.afficher_info()\n",
    "voiture2.afficher_info()\n",
    "voiture3.afficher_info()\n"
   ]
  },
  {
   "cell_type": "markdown",
   "metadata": {
    "id": "Y5nuVvWDU3mI"
   },
   "source": [
    "# **EXERCICE 3**"
   ]
  },
  {
   "cell_type": "code",
   "execution_count": 1,
   "metadata": {
    "colab": {
     "base_uri": "https://localhost:8080/"
    },
    "id": "ExmU6li7U578",
    "outputId": "e3ff4a50-72ed-4a8f-8e7d-529a5c8a70e0"
   },
   "outputs": [
    {
     "name": "stdout",
     "output_type": "stream",
     "text": [
      "Le solde actuel est de : 500 MAD.\n",
      "200 MAD déposés. Nouveau solde : 700 MAD.\n",
      "100 MAD retirés. Nouveau solde : 600 MAD.\n",
      "Fonds insuffisants.\n",
      "Le solde actuel est de : 600 MAD.\n"
     ]
    }
   ],
   "source": [
    "class CompteBancaire:\n",
    "    def __init__(self, titulaire, solde=0):\n",
    "        self.titulaire = titulaire\n",
    "        self.solde = solde\n",
    "\n",
    "    def deposer(self, montant):\n",
    "        if montant > 0:\n",
    "            self.solde += montant\n",
    "            print(f\"{montant} MAD déposés. Nouveau solde : {self.solde} MAD.\")\n",
    "        else:\n",
    "            print(\"Le montant à déposer doit être positif.\")\n",
    "\n",
    "    def retirer(self, montant):\n",
    "        if montant > 0:\n",
    "            if montant <= self.solde:\n",
    "                self.solde -= montant\n",
    "                print(f\"{montant} MAD retirés. Nouveau solde : {self.solde} MAD.\")\n",
    "            else:\n",
    "                print(\"Fonds insuffisants.\")\n",
    "        else:\n",
    "            print(\"Le montant à retirer doit être positif.\")\n",
    "\n",
    "    def afficher_solde(self):\n",
    "        print(f\"Le solde actuel est de : {self.solde} MAD.\")\n",
    "\n",
    "# Création d'un compte bancaire\n",
    "mon_compte = CompteBancaire(\"soumaya\", 500)\n",
    "\n",
    "# Test des méthodes\n",
    "mon_compte.afficher_solde()  \n",
    "mon_compte.deposer(200)     \n",
    "mon_compte.retirer(100)      \n",
    "mon_compte.retirer(700)      \n",
    "mon_compte.afficher_solde()  \n"
   ]
  },
  {
   "cell_type": "markdown",
   "metadata": {
    "id": "lKtyYuBWX6fW"
   },
   "source": [
    "# **EXERCICE 4**"
   ]
  },
  {
   "cell_type": "code",
   "execution_count": 1,
   "metadata": {
    "colab": {
     "base_uri": "https://localhost:8080/"
    },
    "id": "7lSguvH9X65Q",
    "outputId": "8db82890-fe40-43ed-bd27-168e20b718eb"
   },
   "outputs": [
    {
     "name": "stdout",
     "output_type": "stream",
     "text": [
      "Bonjour, je m'appelle Soumaya Tobjya et j'ai 21 ans.\n",
      "Bonjour, je m'appelle Soumaya Tobjya et j'ai 21 ans.\n",
      "Soumaya Tobjya (Matricule : E12345) est en train d'étudier.\n"
     ]
    }
   ],
   "source": [
    "class Personne:\n",
    "    def __init__(self, nom, prenom, age):\n",
    "        self.nom = nom\n",
    "        self.prenom = prenom\n",
    "        self.age = age\n",
    "\n",
    "    def se_presenter(self):\n",
    "        print(f\"Bonjour, je m'appelle {self.prenom} {self.nom} et j'ai {self.age} ans.\")\n",
    "\n",
    "class Etudiant(Personne):\n",
    "    def __init__(self, nom, prenom, age, matricule):\n",
    "        # Appel au constructeur de la classe mère (Personne) pour initialiser ses attributs\n",
    "        super().__init__(nom, prenom, age)\n",
    "        self.matricule = matricule\n",
    "\n",
    "    def etudier(self):\n",
    "        print(f\"{self.prenom} {self.nom} (Matricule : {self.matricule}) est en train d'étudier.\")\n",
    "\n",
    "# Création d'une instance de Personne\n",
    "personne1 = Personne(\"Tobjya\", \"Soumaya\", 21)\n",
    "personne1.se_presenter()\n",
    "\n",
    "# Création d'une instance d'Etudiant\n",
    "etudiant1 = Etudiant(\"Tobjya\", \"Soumaya\", 21, \"E12345\")\n",
    "etudiant1.se_presenter()  # Utilise la méthode héritée de Personne\n",
    "etudiant1.etudier()       # Utilise la méthode spécifique à Etudiant\n"
   ]
  },
  {
   "cell_type": "markdown",
   "metadata": {
    "id": "0Et0nNceZYRt"
   },
   "source": [
    "# **EXERCICE 5**"
   ]
  },
  {
   "cell_type": "code",
   "execution_count": 2,
   "metadata": {
    "colab": {
     "base_uri": "https://localhost:8080/"
    },
    "id": "r5BDTF81ZbFF",
    "outputId": "9b194274-206f-4ec3-f611-bda0f08fefad"
   },
   "outputs": [
    {
     "name": "stdout",
     "output_type": "stream",
     "text": [
      "fait un bruit .\n",
      "Woof!\n",
      "Miaou!\n"
     ]
    }
   ],
   "source": [
    "class Animal:\n",
    "    def faire_du_bruit(self):\n",
    "        print(\"fait un bruit .\")\n",
    "\n",
    "class Chien(Animal):\n",
    "    def faire_du_bruit(self):\n",
    "        print(\"Woof!\")\n",
    "\n",
    "class Chat(Animal):\n",
    "    def faire_du_bruit(self):\n",
    "        print(\"Miaou!\")\n",
    "\n",
    "# Création d'instances\n",
    "animal = Animal()\n",
    "chien = Chien()\n",
    "chat = Chat()\n",
    "\n",
    "# Tests\n",
    "animal.faire_du_bruit()\n",
    "chien.faire_du_bruit()\n",
    "chat.faire_du_bruit()\n",
    "\n"
   ]
  },
  {
   "cell_type": "markdown",
   "metadata": {
    "id": "Vz1MoL2tcUuY"
   },
   "source": [
    "# **EXERCICE 6**"
   ]
  },
  {
   "cell_type": "code",
   "execution_count": 3,
   "metadata": {
    "colab": {
     "base_uri": "https://localhost:8080/"
    },
    "id": "UUOLBIF1cVSc",
    "outputId": "09fcf687-211e-474d-87bd-6092bb47fe8f"
   },
   "outputs": [
    {
     "name": "stdout",
     "output_type": "stream",
     "text": [
      "La surface du rectangle est : 15\n",
      "Le périmètre du rectangle est : 16\n"
     ]
    }
   ],
   "source": [
    "class Rectangle:\n",
    "    def __init__(self, largeur, hauteur):\n",
    "        self.largeur = largeur\n",
    "        self.hauteur = hauteur\n",
    "\n",
    "    #calculer la surface\n",
    "    def calculer_surface(self):\n",
    "        return self.largeur * self.hauteur\n",
    "\n",
    "    #calculer le perimetre\n",
    "    def calculer_perimetre(self):\n",
    "        return 2 * (self.largeur + self.hauteur)\n",
    "\n",
    "# Création d'une instance de Rectangle\n",
    "mon_rectangle = Rectangle(5, 3)\n",
    "\n",
    "# Calcul et affichage de la surface\n",
    "surface = mon_rectangle.calculer_surface()\n",
    "print(f\"La surface du rectangle est : {surface}\")\n",
    "\n",
    "# Calcul et affichage du périmètre\n",
    "perimetre = mon_rectangle.calculer_perimetre()\n",
    "print(f\"Le périmètre du rectangle est : {perimetre}\")\n",
    "\n",
    "\n"
   ]
  },
  {
   "cell_type": "markdown",
   "metadata": {
    "id": "LtZ-8E9XdOX3"
   },
   "source": [
    "# **EXERCICE 7**"
   ]
  },
  {
   "cell_type": "code",
   "execution_count": 7,
   "metadata": {
    "colab": {
     "base_uri": "https://localhost:8080/"
    },
    "id": "Mbw4-QYfdO1o",
    "outputId": "352283af-ed93-4960-db49-db576023168c"
   },
   "outputs": [
    {
     "name": "stdout",
     "output_type": "stream",
     "text": [
      "Le livre 'ABC' par A (1900) a été ajouté à la bibliothèque.\n",
      "Le livre 'EFG' par B (2000) a été ajouté à la bibliothèque.\n",
      "Livres disponibles dans la bibliothèque :\n",
      " - 'ABC' par A (1900)\n",
      " - 'EFG' par B (2000)\n"
     ]
    }
   ],
   "source": [
    "class Livre:\n",
    "    def __init__(self, titre, auteur, annee):\n",
    "        self.titre = titre\n",
    "        self.auteur = auteur\n",
    "        self.annee = annee\n",
    "\n",
    "    def __str__(self):\n",
    "        return f\"'{self.titre}' par {self.auteur} ({self.annee})\"\n",
    "\n",
    "\n",
    "class Bibliotheque:\n",
    "    def __init__(self):\n",
    "        self.livres = []  # Initialise une liste vide pour stocker les livres\n",
    "\n",
    "    def ajouter_livre(self, livre):\n",
    "        self.livres.append(livre)  # Ajoute un livre à la liste\n",
    "        print(f\"Le livre {livre} a été ajouté à la bibliothèque.\")  #Python remplace automatiquement {livre} par le résultat de livre.__str__() !!\n",
    "\n",
    "    def afficher_livres(self):\n",
    "        if not self.livres:  # Vérifie si la liste est vide\n",
    "            print(\"La bibliothèque ne contient aucun livre.\")\n",
    "        else:\n",
    "            print(\"Livres disponibles dans la bibliothèque :\")\n",
    "            for livre in self.livres:  # Parcourt la liste des livres\n",
    "                print(f\" - {livre}\")\n",
    "\n",
    "\n",
    "# Création d'instances de livres\n",
    "livre1 = Livre(\"ABC\", \"A\", 1900)\n",
    "livre2 = Livre(\"EFG\", \"B\", 2000)\n",
    "\n",
    "\n",
    "# Création d'une instance de Bibliotheque\n",
    "ma_bibliotheque = Bibliotheque()\n",
    "\n",
    "# Ajout des livres à la bibliothèque\n",
    "ma_bibliotheque.ajouter_livre(livre1)\n",
    "ma_bibliotheque.ajouter_livre(livre2)\n",
    "\n",
    "# Affichage des livres disponibles dans la bibliothèque\n",
    "ma_bibliotheque.afficher_livres()\n",
    "\n",
    "\n"
   ]
  },
  {
   "cell_type": "markdown",
   "metadata": {
    "id": "mKCJkkNukzYT"
   },
   "source": [
    "# **EXERCICE 8**"
   ]
  },
  {
   "cell_type": "code",
   "execution_count": 8,
   "metadata": {
    "colab": {
     "base_uri": "https://localhost:8080/"
    },
    "id": "VBfcTfe6kzzZ",
    "outputId": "ab34d0a1-70a6-4642-fc92-056f3474248e"
   },
   "outputs": [
    {
     "name": "stdout",
     "output_type": "stream",
     "text": [
      "Paul a été ajouté à la liste des amis de Alice.\n",
      "Julie a été ajouté à la liste des amis de Alice.\n",
      "Paul est déjà dans la liste des amis de Alice.\n",
      "Les amis de Alice Dupont sont :\n",
      "- Paul\n",
      "- Julie\n",
      "Paul Martin n'a pas encore d'amis.\n"
     ]
    }
   ],
   "source": [
    "class Personne:\n",
    "    def __init__(self, nom, prenom, age):\n",
    "        self.nom = nom\n",
    "        self.prenom = prenom\n",
    "        self.age = age\n",
    "        self.amis = []\n",
    "\n",
    "    def ajouter_ami(self, ami):\n",
    "        \"\"\"Ajoute un ami à la liste.\"\"\"\n",
    "        if ami not in self.amis:  # Vérifie que l'ami n'est pas déjà dans la liste\n",
    "            self.amis.append(ami)  # Ajoute l'ami\n",
    "            print(f\"{ami} a été ajouté à la liste des amis de {self.prenom}.\")\n",
    "        else:\n",
    "            print(f\"{ami} est déjà dans la liste des amis de {self.prenom}.\")\n",
    "\n",
    "    def afficher_amis(self):\n",
    "        \"\"\"Affiche la liste des amis.\"\"\"\n",
    "        if self.amis:  # Vérifie si la liste d'amis n'est pas vide\n",
    "            print(f\"Les amis de {self.prenom} {self.nom} sont :\")\n",
    "            for ami in self.amis:  # Parcourt chaque ami dans la liste\n",
    "                print(f\"- {ami}\")\n",
    "        else:\n",
    "            print(f\"{self.prenom} {self.nom} n'a pas encore d'amis.\")\n",
    "\n",
    "# Création d'instances\n",
    "personne1 = Personne(\"Dupont\", \"Alice\", 25)\n",
    "personne2 = Personne(\"Martin\", \"Paul\", 30)\n",
    "\n",
    "# Ajouter des amis\n",
    "personne1.ajouter_ami(\"Paul\")\n",
    "personne1.ajouter_ami(\"Julie\")\n",
    "personne1.ajouter_ami(\"Paul\")  # Test de doublon\n",
    "\n",
    "# Afficher les amis\n",
    "personne1.afficher_amis()\n",
    "\n",
    "# Test avec une autre personne (sans amis)\n",
    "personne2.afficher_amis()\n"
   ]
  }
 ],
 "metadata": {
  "colab": {
   "provenance": []
  },
  "kernelspec": {
   "display_name": "Python 3",
   "name": "python3"
  },
  "language_info": {
   "codemirror_mode": {
    "name": "ipython",
    "version": 3
   },
   "file_extension": ".py",
   "mimetype": "text/x-python",
   "name": "python",
   "nbconvert_exporter": "python",
   "pygments_lexer": "ipython3",
   "version": "3.11.8"
  }
 },
 "nbformat": 4,
 "nbformat_minor": 0
}
