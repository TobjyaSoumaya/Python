{
  "nbformat": 4,
  "nbformat_minor": 0,
  "metadata": {
    "colab": {
      "provenance": []
    },
    "kernelspec": {
      "name": "python3",
      "display_name": "Python 3"
    },
    "language_info": {
      "name": "python"
    }
  },
  "cells": [
    {
      "cell_type": "code",
      "execution_count": 6,
      "metadata": {
        "colab": {
          "base_uri": "https://localhost:8080/",
          "height": 0
        },
        "id": "5NbYETBqVEQM",
        "outputId": "529850fa-3b77-45c1-bd63-cbe5030c92f6"
      },
      "outputs": [
        {
          "output_type": "stream",
          "name": "stdout",
          "text": [
            "Informations sur la voiture :\n",
            "Véhicule : Toyota Corolla (2022)\n",
            "Nombre de places : 5\n",
            "Moteur : 130 chevaux, Type : Essence\n",
            "\n",
            "Informations sur la moto :\n",
            "Véhicule : Yamaha MT-07 (2021)\n",
            "Type de moto : Sport\n",
            "Moteur : 75 chevaux, Type : Essence\n",
            "[<class '__main__.Voiture'>, <class '__main__.Vehicule'>, <class '__main__.Moteur'>, <class 'object'>]\n"
          ]
        }
      ],
      "source": [
        "# Classe de base pour les véhicules\n",
        "class Vehicule:\n",
        "    def __init__(self, marque, modele, annee):\n",
        "        self.marque = marque\n",
        "        self.modele = modele\n",
        "        self.annee = annee\n",
        "\n",
        "    def afficher_info(self):\n",
        "        print(f\"Véhicule : {self.marque} {self.modele} ({self.annee})\")\n",
        "\n",
        "# Classe pour les caractéristiques du moteur\n",
        "class Moteur:\n",
        "    def __init__(self, puissance, type_moteur):\n",
        "        self.puissance = puissance\n",
        "        self.type_moteur = type_moteur\n",
        "\n",
        "    def afficher_moteur(self):\n",
        "        print(f\"Moteur : {self.puissance} chevaux, Type : {self.type_moteur}\")\n",
        "\n",
        "# Classe Voiture héritant de Vehicule et Moteur\n",
        "class Voiture(Vehicule, Moteur):\n",
        "    def __init__(self, marque, modele, annee, puissance, type_moteur, nombre_de_places):\n",
        "        Vehicule.__init__(self, marque, modele, annee)\n",
        "        Moteur.__init__(self, puissance, type_moteur)\n",
        "        self.nombre_de_places = nombre_de_places\n",
        "\n",
        "    def afficher_info(self):\n",
        "        super().afficher_info()\n",
        "        print(f\"Nombre de places : {self.nombre_de_places}\")\n",
        "        self.afficher_moteur()\n",
        "\n",
        "# Classe Moto héritant de Vehicule et Moteur\n",
        "class Moto(Vehicule, Moteur):\n",
        "    def __init__(self, marque, modele, annee, puissance, type_moteur, type_moto):\n",
        "        Vehicule.__init__(self, marque, modele, annee)\n",
        "        Moteur.__init__(self, puissance, type_moteur)\n",
        "        self.type_moto = type_moto\n",
        "\n",
        "    def afficher_info(self):\n",
        "        super().afficher_info()\n",
        "        print(f\"Type de moto : {self.type_moto}\")\n",
        "        self.afficher_moteur()\n",
        "\n",
        "# Création d'une instance de Voiture\n",
        "voiture = Voiture(marque=\"Toyota\", modele=\"Corolla\", annee=2022, puissance=130, type_moteur=\"Essence\", nombre_de_places=5)\n",
        "\n",
        "# Création d'une instance de Moto\n",
        "moto = Moto(marque=\"Yamaha\", modele=\"MT-07\", annee=2021, puissance=75, type_moteur=\"Essence\", type_moto=\"Sport\")\n",
        "\n",
        "# Afficher les informations des véhicules\n",
        "print(\"Informations sur la voiture :\")\n",
        "voiture.afficher_info()\n",
        "print(\"\\nInformations sur la moto :\")\n",
        "moto.afficher_info()\n",
        "\n",
        "print(Voiture.mro())\n",
        "\n"
      ]
    }
  ]
}