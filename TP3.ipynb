{
  "nbformat": 4,
  "nbformat_minor": 0,
  "metadata": {
    "colab": {
      "provenance": []
    },
    "kernelspec": {
      "name": "python3",
      "display_name": "Python 3"
    },
    "language_info": {
      "name": "python"
    }
  },
  "cells": [
    {
      "cell_type": "markdown",
      "source": [
        "# **EXERCICE 1**"
      ],
      "metadata": {
        "id": "WJhR1Wo45drU"
      }
    },
    {
      "cell_type": "code",
      "execution_count": 1,
      "metadata": {
        "colab": {
          "base_uri": "https://localhost:8080/"
        },
        "id": "VA2ugJGb5Hln",
        "outputId": "30ecb919-23fa-43f9-c234-c2d3fd63e6ec"
      },
      "outputs": [
        {
          "output_type": "stream",
          "name": "stdout",
          "text": [
            "Surface du cercle : 78.54\n",
            "Surface du rectangle : 28.00\n"
          ]
        }
      ],
      "source": [
        "from abc import ABC, abstractmethod\n",
        "import math\n",
        "\n",
        "# Classe de base abstraite \"Forme\"\n",
        "class Forme(ABC):\n",
        "    @abstractmethod\n",
        "    def calculer_surface(self):\n",
        "        pass\n",
        "\n",
        "# Sous-classe \"Cercle\"\n",
        "class Cercle(Forme):\n",
        "    def __init__(self, rayon):\n",
        "        self.rayon = rayon\n",
        "\n",
        "    def calculer_surface(self):\n",
        "        return math.pi * (self.rayon ** 2)\n",
        "\n",
        "# Sous-classe \"Rectangle\"\n",
        "class Rectangle(Forme):\n",
        "    def __init__(self, largeur, hauteur):\n",
        "        self.largeur = largeur\n",
        "        self.hauteur = hauteur\n",
        "\n",
        "    def calculer_surface(self):\n",
        "        return self.largeur * self.hauteur\n",
        "\n",
        "# Exemple d'utilisation\n",
        "\n",
        "cercle = Cercle(5)\n",
        "rectangle = Rectangle(4, 7)\n",
        "\n",
        "print(f\"Surface du cercle : {cercle.calculer_surface():.2f}\")\n",
        "print(f\"Surface du rectangle : {rectangle.calculer_surface():.2f}\")\n",
        "\n"
      ]
    },
    {
      "cell_type": "markdown",
      "source": [
        "# **EXERCICE 2**"
      ],
      "metadata": {
        "id": "5zfAeSTXC96I"
      }
    },
    {
      "cell_type": "code",
      "source": [
        "class Personne:\n",
        "    def __init__(self, nom, prenom, age):\n",
        "        self.__nom = nom  # Attribut privé\n",
        "        self.__prenom = prenom  # Attribut privé\n",
        "        self.__age = age  # Attribut privé\n",
        "\n",
        "    # Méthode publique pour obtenir le nom\n",
        "    def get_nom(self):\n",
        "        return self.__nom\n",
        "\n",
        "    # Méthode publique pour modifier le nom\n",
        "    def set_nom(self, nom):\n",
        "        if isinstance(nom, str) and nom:\n",
        "            self.__nom = nom\n",
        "        else:\n",
        "            raise ValueError(\"Le nom doit être une chaîne de caractères non vide.\")\n",
        "\n",
        "    # Méthode publique pour obtenir le prénom\n",
        "    def get_prenom(self):\n",
        "        return self.__prenom\n",
        "\n",
        "    # Méthode publique pour modifier le prénom\n",
        "    def set_prenom(self, prenom):\n",
        "        if isinstance(prenom, str) and prenom:\n",
        "            self.__prenom = prenom\n",
        "        else:\n",
        "            raise ValueError(\"Le prénom doit être une chaîne de caractères non vide.\")\n",
        "\n",
        "    # Méthode publique pour obtenir l'âge\n",
        "    def get_age(self):\n",
        "        return self.__age\n",
        "\n",
        "    # Méthode publique pour modifier l'âge\n",
        "    def set_age(self, age):\n",
        "        if isinstance(age, int) and age > 0:\n",
        "            self.__age = age\n",
        "        else:\n",
        "            raise ValueError(\"L'âge doit être un entier positif.\")\n",
        "\n",
        "# Exemple d'utilisation\n",
        "p = Personne(nom=\"tobjya\", prenom=\"alae\", age=5)\n",
        "\n",
        "# Obtention des informations\n",
        "print(f\"Nom : {p.get_nom()}\")\n",
        "print(f\"Prénom : {p.get_prenom()}\")\n",
        "print(f\"Âge : {p.get_age()}\")\n",
        "\n",
        "# Modification des informations\n",
        "p.set_nom(\"bennani\")\n",
        "p.set_prenom(\"aya\")\n",
        "p.set_age(25)\n",
        "\n",
        "# Obtention des informations mises à jour\n",
        "print(f\"Nom apres modification : {p.get_nom()}\")\n",
        "print(f\"Prénom apres modification : {p.get_prenom()}\")\n",
        "print(f\"Âge apres modification : {p.get_age()}\")\n"
      ],
      "metadata": {
        "colab": {
          "base_uri": "https://localhost:8080/"
        },
        "id": "d59iNXekC-PA",
        "outputId": "03f89964-ec98-41c4-9684-2adeddd28377"
      },
      "execution_count": 3,
      "outputs": [
        {
          "output_type": "stream",
          "name": "stdout",
          "text": [
            "Nom : tobjya\n",
            "Prénom : alae\n",
            "Âge : 5\n",
            "Nom apres modification : bennani\n",
            "Prénom apres modification : aya\n",
            "Âge apres modification : 25\n"
          ]
        }
      ]
    },
    {
      "cell_type": "markdown",
      "source": [
        "# **EXERCICE 3**"
      ],
      "metadata": {
        "id": "yj_Zw0MMdArx"
      }
    },
    {
      "cell_type": "code",
      "source": [
        "from abc import ABC, abstractmethod\n",
        "import math\n",
        "\n",
        "# Classe de base abstraite \"Forme\"\n",
        "class Forme(ABC):\n",
        "    @abstractmethod\n",
        "    def calculer_surface(self):\n",
        "        pass\n",
        "\n",
        "# Sous-classe \"Cercle\"\n",
        "class Cercle(Forme):\n",
        "    def __init__(self, rayon):\n",
        "        self.rayon = rayon\n",
        "\n",
        "    def calculer_surface(self):\n",
        "        return math.pi * self.rayon ** 2\n",
        "\n",
        "# Sous-classe \"Rectangle\"\n",
        "class Rectangle(Forme):\n",
        "    def __init__(self, largeur, hauteur):\n",
        "        self.largeur = largeur\n",
        "        self.hauteur = hauteur\n",
        "\n",
        "    def calculer_surface(self):\n",
        "        return self.largeur * self.hauteur\n",
        "\n",
        "# Fonction utilisant le polymorphisme\n",
        "def afficher_surface(formes):\n",
        "    for forme in formes:\n",
        "        print(f\"Surface de la forme : {forme.calculer_surface():.2f}\")\n",
        "\n",
        "# Exemple d'utilisation\n",
        "formes = [\n",
        "    Cercle(3),\n",
        "    Rectangle(4, 5),\n",
        "    Cercle(7),\n",
        "    Rectangle(2, 6)\n",
        "]\n",
        "\n",
        "# Appeler la fonction pour afficher les surfaces\n",
        "afficher_surface(formes)\n"
      ],
      "metadata": {
        "colab": {
          "base_uri": "https://localhost:8080/"
        },
        "id": "my00Bh41dBEu",
        "outputId": "29931a1b-3c8e-4c0f-bcc1-217317a8d442"
      },
      "execution_count": 5,
      "outputs": [
        {
          "output_type": "stream",
          "name": "stdout",
          "text": [
            "Surface de la forme : 28.27\n",
            "Surface de la forme : 20.00\n",
            "Surface de la forme : 153.94\n",
            "Surface de la forme : 12.00\n"
          ]
        }
      ]
    },
    {
      "cell_type": "markdown",
      "source": [
        "# **EXERCICE 4**"
      ],
      "metadata": {
        "id": "PSf5ZRPlfM1c"
      }
    },
    {
      "cell_type": "code",
      "source": [
        "class Produit:\n",
        "    def __init__(self, nom, prix):\n",
        "        self.__nom = nom\n",
        "        self.__prix = prix\n",
        "\n",
        "    # Getter pour le nom\n",
        "    def get_nom(self):\n",
        "        return self.__nom\n",
        "\n",
        "    # Setter pour le nom avec validation\n",
        "    def set_nom(self, nom):\n",
        "        if isinstance(nom, str) and nom:\n",
        "            self.__nom = nom\n",
        "        else:\n",
        "            raise ValueError(\"Le nom doit être une chaîne de caractères non vide.\")\n",
        "\n",
        "    # Getter pour le prix\n",
        "    def get_prix(self):\n",
        "        return self.__prix\n",
        "\n",
        "    # Setter pour le prix avec validation\n",
        "    def set_prix(self, prix):\n",
        "        if isinstance(prix, (int, float)) and prix >= 0:\n",
        "            self.__prix = prix\n",
        "        else:\n",
        "            raise ValueError(\"Le prix doit être un nombre positif ou nul.\")\n",
        "\n",
        "    # Méthode pour calculer le prix avec remise\n",
        "    def calculer_prix_avec_remise(self, remise, seuil):\n",
        "\n",
        "        if not (0 <= remise <= 100):\n",
        "            raise ValueError(\"La remise doit être un pourcentage entre 0 et 100.\")\n",
        "\n",
        "        if self.__prix > seuil:\n",
        "            prix_final = self.__prix * (1 - remise / 100)\n",
        "        else:\n",
        "            prix_final = self.__prix\n",
        "\n",
        "        return round(prix_final, 2)  # Arrondir le prix final à deux décimales\n",
        "\n",
        "# Créer un produit\n",
        "produit = Produit(\"Ordinateur\", 1500)\n",
        "\n",
        "# Afficher les détails\n",
        "print(\"Nom :\", produit.get_nom())\n",
        "print(\"Prix :\", produit.get_prix())\n",
        "\n",
        "# Calculer le prix avec remise\n",
        "prix_remise = produit.calculer_prix_avec_remise(remise=10, seuil=1000)\n",
        "print(\"Prix avec remise :\", prix_remise)\n"
      ],
      "metadata": {
        "colab": {
          "base_uri": "https://localhost:8080/"
        },
        "id": "Y28ckL-dfNMU",
        "outputId": "60d48ca0-e711-4cef-cd05-e1d4fa3092fe"
      },
      "execution_count": 6,
      "outputs": [
        {
          "output_type": "stream",
          "name": "stdout",
          "text": [
            "Nom : Ordinateur\n",
            "Prix : 1500\n",
            "Prix avec remise : 1350.0\n"
          ]
        }
      ]
    },
    {
      "cell_type": "markdown",
      "source": [
        "# **EXERCICE 5**"
      ],
      "metadata": {
        "id": "8Tl2PUJhhdnD"
      }
    },
    {
      "cell_type": "code",
      "source": [
        "class Employe:\n",
        "    def __init__(self, nom, prenom, salaire):\n",
        "        self.nom = nom\n",
        "        self.prenom = prenom\n",
        "        self.salaire = salaire\n",
        "\n",
        "    def afficher_details(self):\n",
        "        return f\"Nom: {self.nom}, Prénom: {self.prenom}, Salaire: {self.salaire:.2f}\"\n",
        "\n",
        "\n",
        "class Manager(Employe):\n",
        "    def __init__(self, nom, prenom, salaire):\n",
        "        super().__init__(nom, prenom, salaire)\n",
        "        self.employes = []  # Liste pour stocker les employés supervisés\n",
        "\n",
        "    def ajouter_employe(self, employe):\n",
        "        if isinstance(employe, Employe): #objet de type Employe\n",
        "            self.employes.append(employe)\n",
        "        else:\n",
        "            raise ValueError(\"Seuls les objets de type Employe peuvent être ajoutés.\")\n",
        "\n",
        "    def afficher_employes(self):\n",
        "        if self.employes:\n",
        "            print(\"Employés supervisés :\")\n",
        "            for emp in self.employes:\n",
        "                print(f\" - {emp.afficher_details()}\")\n",
        "        else:\n",
        "            print(\"Aucun employé supervisé.\")\n",
        "\n",
        "\n",
        "# Exemple d'utilisation\n",
        "# Création d'employés\n",
        "employe1 = Employe(\"Doe\", \"John\", 3000)\n",
        "employe2 = Employe(\"Smith\", \"Anna\", 3500)\n",
        "employe3 = Employe(\"Brown\", \"Michael\", 3200)\n",
        "\n",
        "# Création d'un manager\n",
        "manager = Manager(\"Taylor\", \"Alice\", 5000)\n",
        "\n",
        "# Ajouter des employés sous la supervision du manager\n",
        "manager.ajouter_employe(employe1)\n",
        "manager.ajouter_employe(employe2)\n",
        "manager.ajouter_employe(employe3)\n",
        "\n",
        "# Afficher les détails du manager\n",
        "print(manager.afficher_details())\n",
        "\n",
        "# Afficher la liste des employés supervisés\n",
        "manager.afficher_employes()\n"
      ],
      "metadata": {
        "colab": {
          "base_uri": "https://localhost:8080/"
        },
        "id": "h_13-xV1hd8m",
        "outputId": "f9cb0bb8-2c65-4cb8-9ef2-8e7083a53186"
      },
      "execution_count": 7,
      "outputs": [
        {
          "output_type": "stream",
          "name": "stdout",
          "text": [
            "Nom: Taylor, Prénom: Alice, Salaire: 5000.00\n",
            "Employés supervisés :\n",
            " - Nom: Doe, Prénom: John, Salaire: 3000.00\n",
            " - Nom: Smith, Prénom: Anna, Salaire: 3500.00\n",
            " - Nom: Brown, Prénom: Michael, Salaire: 3200.00\n"
          ]
        }
      ]
    },
    {
      "cell_type": "markdown",
      "source": [
        "# **EXERCICE 6**"
      ],
      "metadata": {
        "id": "_9eC_V2FmFD-"
      }
    },
    {
      "cell_type": "code",
      "source": [
        "# Classe Produit\n",
        "class Produit:\n",
        "    def __init__(self, nom, prix):\n",
        "        self.__nom = nom  # Attribut privé pour le nom\n",
        "        self.__prix = prix  # Attribut privé pour le prix\n",
        "\n",
        "    # Getter pour le nom\n",
        "    def get_nom(self):\n",
        "        return self.__nom\n",
        "\n",
        "    # Getter pour le prix\n",
        "    def get_prix(self):\n",
        "        return self.__prix\n",
        "\n",
        "    # Méthode pour calculer le prix avec une remise\n",
        "    def prix_avec_remise(self, remise):\n",
        "        if self.__prix > 100:  # Remise appliquée seulement si le prix est supérieur à 100\n",
        "            return self.__prix * (1 - remise / 100)\n",
        "        return self.__prix\n",
        "\n",
        "\n",
        "# Classe Commande\n",
        "class Commande:\n",
        "    def __init__(self, produit, quantite):\n",
        "        self.produit = produit  # Produit est une instance de la classe Produit\n",
        "        self.quantite = quantite  # Quantité commandée\n",
        "\n",
        "    # Méthode pour calculer le total de cette commande\n",
        "    def calculer_total(self):\n",
        "        return self.produit.get_prix() * self.quantite\n",
        "\n",
        "\n",
        "# Classe Panier\n",
        "class Panier:\n",
        "    def __init__(self):\n",
        "        self.commandes = []  # Liste des commandes dans le panier\n",
        "\n",
        "    # Méthode pour ajouter une commande au panier\n",
        "    def ajouter_commande(self, commande):\n",
        "        self.commandes.append(commande)\n",
        "\n",
        "    # Méthode pour calculer le total du panier\n",
        "    def calculer_total_panier(self):\n",
        "        total = 0\n",
        "        for commande in self.commandes:\n",
        "            total += commande.calculer_total()  # Somme des totaux de chaque commande\n",
        "        return total\n",
        "\n",
        "# Création de produits\n",
        "produit1 = Produit(\"Téléphone\", 150)\n",
        "produit2 = Produit(\"Casque\", 50)\n",
        "\n",
        "# Création de commandes\n",
        "commande1 = Commande(produit1, 2)\n",
        "commande2 = Commande(produit2, 3)\n",
        "\n",
        "# Création du panier et ajout des commandes\n",
        "panier = Panier()\n",
        "panier.ajouter_commande(commande1)\n",
        "panier.ajouter_commande(commande2)\n",
        "\n",
        "# Affichage du total du panier\n",
        "print(\"Total du panier :\", panier.calculer_total_panier())\n",
        "\n"
      ],
      "metadata": {
        "colab": {
          "base_uri": "https://localhost:8080/"
        },
        "id": "WG9oOsO8mFf4",
        "outputId": "d5e2ec35-6df0-4c43-9568-b17b46829eba"
      },
      "execution_count": 9,
      "outputs": [
        {
          "output_type": "stream",
          "name": "stdout",
          "text": [
            "Total du panier : 450\n"
          ]
        }
      ]
    },
    {
      "cell_type": "markdown",
      "source": [
        "# **EXERCICE 7**"
      ],
      "metadata": {
        "id": "or7id0yFowZ7"
      }
    },
    {
      "cell_type": "code",
      "source": [
        "from abc import ABC, abstractmethod\n",
        "\n",
        "# Classe abstraite Vehicule\n",
        "class Vehicule(ABC):\n",
        "    @abstractmethod\n",
        "    def deplacer(self):\n",
        "        \"\"\"Méthode abstraite pour définir comment le véhicule se déplace.\"\"\"\n",
        "        pass\n",
        "\n",
        "# Sous-classe Voiture\n",
        "class Voiture(Vehicule):\n",
        "    def deplacer(self):\n",
        "        return \"La voiture roule sur la route.\"\n",
        "\n",
        "# Sous-classe Bicyclette\n",
        "class Bicyclette(Vehicule):\n",
        "    def deplacer(self):\n",
        "        return \"La bicyclette roule sur la piste cyclable ou la route.\"\n",
        "\n",
        "# Instanciation et utilisation\n",
        "voiture = Voiture()\n",
        "bicyclette = Bicyclette()\n",
        "\n",
        "# Affichage des déplacements\n",
        "print(voiture.deplacer())\n",
        "print(bicyclette.deplacer())"
      ],
      "metadata": {
        "colab": {
          "base_uri": "https://localhost:8080/"
        },
        "id": "bQKHTcobowvF",
        "outputId": "b8e99bd9-9381-42b3-dd66-2188df2a345e"
      },
      "execution_count": 10,
      "outputs": [
        {
          "output_type": "stream",
          "name": "stdout",
          "text": [
            "La voiture roule sur la route.\n",
            "La bicyclette roule sur la piste cyclable ou la route.\n"
          ]
        }
      ]
    }
  ]
}